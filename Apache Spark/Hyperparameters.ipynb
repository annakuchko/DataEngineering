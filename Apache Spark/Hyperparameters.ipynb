{
  "nbformat": 4,
  "nbformat_minor": 0,
  "metadata": {
    "kernelspec": {
      "display_name": "Python 3",
      "language": "python",
      "name": "python3"
    },
    "language_info": {
      "codemirror_mode": {
        "name": "ipython",
        "version": 3
      },
      "file_extension": ".py",
      "mimetype": "text/x-python",
      "name": "python",
      "nbconvert_exporter": "python",
      "pygments_lexer": "ipython3",
      "version": "3.8.3"
    },
    "colab": {
      "name": "Hyperparameters.ipynb",
      "provenance": [],
      "collapsed_sections": []
    }
  },
  "cells": [
    {
      "cell_type": "code",
      "metadata": {
        "id": "X817X-mIxP9N"
      },
      "source": [
        "!pip install pyspark spark_sklearn -q"
      ],
      "execution_count": null,
      "outputs": []
    },
    {
      "cell_type": "code",
      "metadata": {
        "id": "60LxUjOnxeL2"
      },
      "source": [
        "from pyspark.sql import SparkSession\n",
        "\n",
        "spark = SparkSession.builder\\\n",
        "        .master(\"local\")\\\n",
        "        .appName(\"Colab_pyspark\")\\\n",
        "        .config('spark.ui.port', '4050')\\\n",
        "        .config('spark.executor.memory', '3g')\\\n",
        "        .getOrCreate()"
      ],
      "execution_count": null,
      "outputs": []
    },
    {
      "cell_type": "code",
      "metadata": {
        "colab": {
          "base_uri": "https://localhost:8080/",
          "height": 242
        },
        "id": "T3-G_1fdxP9O",
        "outputId": "022a7e01-da28-4eb6-80ec-739681a8cfb9"
      },
      "source": [
        "sc = spark.sparkContext\n",
        "spark"
      ],
      "execution_count": null,
      "outputs": [
        {
          "output_type": "execute_result",
          "data": {
            "text/html": [
              "\n",
              "            <div>\n",
              "                <p><b>SparkSession - in-memory</b></p>\n",
              "                \n",
              "        <div>\n",
              "            <p><b>SparkContext</b></p>\n",
              "\n",
              "            <p><a href=\"http://d2ed231375d7:4050\">Spark UI</a></p>\n",
              "\n",
              "            <dl>\n",
              "              <dt>Version</dt>\n",
              "                <dd><code>v3.1.2</code></dd>\n",
              "              <dt>Master</dt>\n",
              "                <dd><code>local</code></dd>\n",
              "              <dt>AppName</dt>\n",
              "                <dd><code>Colab_pyspark</code></dd>\n",
              "            </dl>\n",
              "        </div>\n",
              "        \n",
              "            </div>\n",
              "        "
            ],
            "text/plain": [
              "<pyspark.sql.session.SparkSession at 0x7f5f17e0eb10>"
            ]
          },
          "metadata": {},
          "execution_count": 6
        }
      ]
    },
    {
      "cell_type": "code",
      "metadata": {
        "colab": {
          "base_uri": "https://localhost:8080/",
          "height": 228
        },
        "id": "JzNDZdKT4tt6",
        "outputId": "6af5dd11-e51e-44d8-b372-410750c5ec4c"
      },
      "source": [
        "# Выборка https://www.kaggle.com/shivam2503/diamonds\n",
        "import pandas as pd\n",
        "pdf = pd.read_csv(\"diamonds.csv\", header=0)\n",
        "pdf.head()"
      ],
      "execution_count": null,
      "outputs": [
        {
          "output_type": "execute_result",
          "data": {
            "text/html": [
              "<div>\n",
              "<style scoped>\n",
              "    .dataframe tbody tr th:only-of-type {\n",
              "        vertical-align: middle;\n",
              "    }\n",
              "\n",
              "    .dataframe tbody tr th {\n",
              "        vertical-align: top;\n",
              "    }\n",
              "\n",
              "    .dataframe thead th {\n",
              "        text-align: right;\n",
              "    }\n",
              "</style>\n",
              "<table border=\"1\" class=\"dataframe\">\n",
              "  <thead>\n",
              "    <tr style=\"text-align: right;\">\n",
              "      <th></th>\n",
              "      <th>carat</th>\n",
              "      <th>cut</th>\n",
              "      <th>color</th>\n",
              "      <th>clarity</th>\n",
              "      <th>depth</th>\n",
              "      <th>table</th>\n",
              "      <th>price</th>\n",
              "      <th>x</th>\n",
              "      <th>y</th>\n",
              "      <th>z</th>\n",
              "    </tr>\n",
              "  </thead>\n",
              "  <tbody>\n",
              "    <tr>\n",
              "      <th>0</th>\n",
              "      <td>0.23</td>\n",
              "      <td>Ideal</td>\n",
              "      <td>E</td>\n",
              "      <td>SI2</td>\n",
              "      <td>61.5</td>\n",
              "      <td>55.0</td>\n",
              "      <td>326</td>\n",
              "      <td>3.95</td>\n",
              "      <td>3.98</td>\n",
              "      <td>2.43</td>\n",
              "    </tr>\n",
              "    <tr>\n",
              "      <th>1</th>\n",
              "      <td>0.21</td>\n",
              "      <td>Premium</td>\n",
              "      <td>E</td>\n",
              "      <td>SI1</td>\n",
              "      <td>59.8</td>\n",
              "      <td>61.0</td>\n",
              "      <td>326</td>\n",
              "      <td>3.89</td>\n",
              "      <td>3.84</td>\n",
              "      <td>2.31</td>\n",
              "    </tr>\n",
              "    <tr>\n",
              "      <th>2</th>\n",
              "      <td>0.23</td>\n",
              "      <td>Good</td>\n",
              "      <td>E</td>\n",
              "      <td>VS1</td>\n",
              "      <td>56.9</td>\n",
              "      <td>65.0</td>\n",
              "      <td>327</td>\n",
              "      <td>4.05</td>\n",
              "      <td>4.07</td>\n",
              "      <td>2.31</td>\n",
              "    </tr>\n",
              "    <tr>\n",
              "      <th>3</th>\n",
              "      <td>0.29</td>\n",
              "      <td>Premium</td>\n",
              "      <td>I</td>\n",
              "      <td>VS2</td>\n",
              "      <td>62.4</td>\n",
              "      <td>58.0</td>\n",
              "      <td>334</td>\n",
              "      <td>4.20</td>\n",
              "      <td>4.23</td>\n",
              "      <td>2.63</td>\n",
              "    </tr>\n",
              "    <tr>\n",
              "      <th>4</th>\n",
              "      <td>0.31</td>\n",
              "      <td>Good</td>\n",
              "      <td>J</td>\n",
              "      <td>SI2</td>\n",
              "      <td>63.3</td>\n",
              "      <td>58.0</td>\n",
              "      <td>335</td>\n",
              "      <td>4.34</td>\n",
              "      <td>4.35</td>\n",
              "      <td>2.75</td>\n",
              "    </tr>\n",
              "  </tbody>\n",
              "</table>\n",
              "</div>"
            ],
            "text/plain": [
              "   carat      cut color clarity  depth  table  price     x     y     z\n",
              "0   0.23    Ideal     E     SI2   61.5   55.0    326  3.95  3.98  2.43\n",
              "1   0.21  Premium     E     SI1   59.8   61.0    326  3.89  3.84  2.31\n",
              "2   0.23     Good     E     VS1   56.9   65.0    327  4.05  4.07  2.31\n",
              "3   0.29  Premium     I     VS2   62.4   58.0    334  4.20  4.23  2.63\n",
              "4   0.31     Good     J     SI2   63.3   58.0    335  4.34  4.35  2.75"
            ]
          },
          "metadata": {},
          "execution_count": 8
        }
      ]
    },
    {
      "cell_type": "code",
      "metadata": {
        "id": "VE-kv1ZMXtox"
      },
      "source": [
        "LableEncoding OneHotEncoding"
      ],
      "execution_count": null,
      "outputs": []
    },
    {
      "cell_type": "markdown",
      "metadata": {
        "id": "xskNznOBxP9Q"
      },
      "source": [
        "## Feature engineering"
      ]
    },
    {
      "cell_type": "code",
      "metadata": {
        "colab": {
          "base_uri": "https://localhost:8080/",
          "height": 228
        },
        "id": "s0DhlK72ZLA_",
        "outputId": "c72ea16e-e94f-46a9-c764-60a1b9f18ed4"
      },
      "source": [
        "pdf['cut'] = pdf['cut'].replace({'Fair': 0, 'Good': 1, 'Very Good': 2, 'Premium': 3, 'Ideal': 4})\n",
        "pdf['color'] = pdf['color'].replace({'J': 0, 'I': 1, 'H': 2, 'G': 3, 'F': 4, 'E': 5, 'D': 6})\n",
        "pdf['clarity'] = pdf['clarity'].replace({'I1': 0, 'SI1': 1, 'SI2': 2, 'VS1': 3, 'VS2': 4, 'VVS1': 5, 'VVS2': 6, 'IF': 7})\n",
        "pdf.head()"
      ],
      "execution_count": null,
      "outputs": [
        {
          "output_type": "execute_result",
          "data": {
            "text/html": [
              "<div>\n",
              "<style scoped>\n",
              "    .dataframe tbody tr th:only-of-type {\n",
              "        vertical-align: middle;\n",
              "    }\n",
              "\n",
              "    .dataframe tbody tr th {\n",
              "        vertical-align: top;\n",
              "    }\n",
              "\n",
              "    .dataframe thead th {\n",
              "        text-align: right;\n",
              "    }\n",
              "</style>\n",
              "<table border=\"1\" class=\"dataframe\">\n",
              "  <thead>\n",
              "    <tr style=\"text-align: right;\">\n",
              "      <th></th>\n",
              "      <th>carat</th>\n",
              "      <th>cut</th>\n",
              "      <th>color</th>\n",
              "      <th>clarity</th>\n",
              "      <th>depth</th>\n",
              "      <th>table</th>\n",
              "      <th>price</th>\n",
              "      <th>x</th>\n",
              "      <th>y</th>\n",
              "      <th>z</th>\n",
              "    </tr>\n",
              "  </thead>\n",
              "  <tbody>\n",
              "    <tr>\n",
              "      <th>0</th>\n",
              "      <td>0.23</td>\n",
              "      <td>4</td>\n",
              "      <td>5</td>\n",
              "      <td>2</td>\n",
              "      <td>61.5</td>\n",
              "      <td>55.0</td>\n",
              "      <td>326</td>\n",
              "      <td>3.95</td>\n",
              "      <td>3.98</td>\n",
              "      <td>2.43</td>\n",
              "    </tr>\n",
              "    <tr>\n",
              "      <th>1</th>\n",
              "      <td>0.21</td>\n",
              "      <td>3</td>\n",
              "      <td>5</td>\n",
              "      <td>1</td>\n",
              "      <td>59.8</td>\n",
              "      <td>61.0</td>\n",
              "      <td>326</td>\n",
              "      <td>3.89</td>\n",
              "      <td>3.84</td>\n",
              "      <td>2.31</td>\n",
              "    </tr>\n",
              "    <tr>\n",
              "      <th>2</th>\n",
              "      <td>0.23</td>\n",
              "      <td>1</td>\n",
              "      <td>5</td>\n",
              "      <td>3</td>\n",
              "      <td>56.9</td>\n",
              "      <td>65.0</td>\n",
              "      <td>327</td>\n",
              "      <td>4.05</td>\n",
              "      <td>4.07</td>\n",
              "      <td>2.31</td>\n",
              "    </tr>\n",
              "    <tr>\n",
              "      <th>3</th>\n",
              "      <td>0.29</td>\n",
              "      <td>3</td>\n",
              "      <td>1</td>\n",
              "      <td>4</td>\n",
              "      <td>62.4</td>\n",
              "      <td>58.0</td>\n",
              "      <td>334</td>\n",
              "      <td>4.20</td>\n",
              "      <td>4.23</td>\n",
              "      <td>2.63</td>\n",
              "    </tr>\n",
              "    <tr>\n",
              "      <th>4</th>\n",
              "      <td>0.31</td>\n",
              "      <td>1</td>\n",
              "      <td>0</td>\n",
              "      <td>2</td>\n",
              "      <td>63.3</td>\n",
              "      <td>58.0</td>\n",
              "      <td>335</td>\n",
              "      <td>4.34</td>\n",
              "      <td>4.35</td>\n",
              "      <td>2.75</td>\n",
              "    </tr>\n",
              "  </tbody>\n",
              "</table>\n",
              "</div>"
            ],
            "text/plain": [
              "   carat  cut  color  clarity  depth  table  price     x     y     z\n",
              "0   0.23    4      5        2   61.5   55.0    326  3.95  3.98  2.43\n",
              "1   0.21    3      5        1   59.8   61.0    326  3.89  3.84  2.31\n",
              "2   0.23    1      5        3   56.9   65.0    327  4.05  4.07  2.31\n",
              "3   0.29    3      1        4   62.4   58.0    334  4.20  4.23  2.63\n",
              "4   0.31    1      0        2   63.3   58.0    335  4.34  4.35  2.75"
            ]
          },
          "metadata": {},
          "execution_count": 9
        }
      ]
    },
    {
      "cell_type": "code",
      "metadata": {
        "colab": {
          "base_uri": "https://localhost:8080/"
        },
        "id": "58L7ZmuaYbNn",
        "outputId": "ce428a18-bae6-49fe-f633-5b9c1bf0f6d5"
      },
      "source": [
        "pdf.dtypes"
      ],
      "execution_count": null,
      "outputs": [
        {
          "output_type": "execute_result",
          "data": {
            "text/plain": [
              "carat      float64\n",
              "cut          int64\n",
              "color        int64\n",
              "clarity      int64\n",
              "depth      float64\n",
              "table      float64\n",
              "price        int64\n",
              "x          float64\n",
              "y          float64\n",
              "z          float64\n",
              "dtype: object"
            ]
          },
          "metadata": {},
          "execution_count": 10
        }
      ]
    },
    {
      "cell_type": "code",
      "metadata": {
        "id": "e9evUSDpZMsE"
      },
      "source": [
        "labels = pdf['price'].values\n",
        "featureNames = ['carat', 'cut', 'color', 'clarity', 'depth', 'table', 'x', 'y', 'z']\n",
        "features = pdf[featureNames].values"
      ],
      "execution_count": null,
      "outputs": []
    },
    {
      "cell_type": "code",
      "metadata": {
        "colab": {
          "base_uri": "https://localhost:8080/"
        },
        "id": "HFNtXVpYZOJS",
        "outputId": "c325deff-041f-4bc3-d155-1574f122f548"
      },
      "source": [
        "from sklearn.preprocessing import normalize\n",
        "features = normalize(features, axis=0)\n",
        "features"
      ],
      "execution_count": null,
      "outputs": [
        {
          "output_type": "execute_result",
          "data": {
            "text/plain": [
              "array([[0.00106702, 0.00553547, 0.005655  , ..., 0.0029123 , 0.00293078,\n",
              "        0.00289958],\n",
              "       [0.00097424, 0.0041516 , 0.005655  , ..., 0.00286806, 0.00282769,\n",
              "        0.00275639],\n",
              "       [0.00106702, 0.00138387, 0.005655  , ..., 0.00298603, 0.00299705,\n",
              "        0.00275639],\n",
              "       ...,\n",
              "       [0.00324745, 0.00276773, 0.006786  , ..., 0.00417307, 0.00418262,\n",
              "        0.00424794],\n",
              "       [0.00398973, 0.0041516 , 0.002262  , ..., 0.00453434, 0.00450662,\n",
              "        0.00446272],\n",
              "       [0.00347941, 0.00553547, 0.006786  , ..., 0.0042984 , 0.00432253,\n",
              "        0.0043434 ]])"
            ]
          },
          "metadata": {},
          "execution_count": 12
        }
      ]
    },
    {
      "cell_type": "code",
      "metadata": {
        "id": "N8reGrDOY6wy"
      },
      "source": [
        "from sklearn import linear_model\n",
        "\n",
        "model = linear_model.Ridge().fit(features, labels)"
      ],
      "execution_count": null,
      "outputs": []
    },
    {
      "cell_type": "code",
      "metadata": {
        "colab": {
          "base_uri": "https://localhost:8080/"
        },
        "id": "NfvhPf2uZiBW",
        "outputId": "468f2d71-f3d8-4a66-9e3c-2909b7928c48"
      },
      "source": [
        "model.coef_"
      ],
      "execution_count": null,
      "outputs": [
        {
          "output_type": "execute_result",
          "data": {
            "text/plain": [
              "array([317631.26407957,  -5570.00639578, -35361.60027062, -12561.03271112,\n",
              "         -391.85286415,   2893.356447  , 113393.7440294 , 112724.63907073,\n",
              "       112036.32664852])"
            ]
          },
          "metadata": {},
          "execution_count": 16
        }
      ]
    },
    {
      "cell_type": "markdown",
      "metadata": {
        "id": "bbT-BruHxP9R"
      },
      "source": [
        "## Parameter tuning со Spark\n",
        "\n",
        "Parameter tuning - это задача тьюнинга (гипер) параметров ML алгоритма с целью повысить качество модели. Тренируются различные модели (каждая со своим набором параметров) на одном и том же наборе данных и далее все полученные модели тестируются на одном и том же отложенном наборе данных, что снижает риск переобучения.\n",
        "\n",
        "k-fold cross validation:\n",
        "\n",
        "\n",
        " - Случайным образом разбиваем данные на к равных частей (\"folds\")\n",
        "     -  i = 1, 2, ..., k, откладываем набор данных i как validation set.\n",
        "     -  training set - все кроме i\n",
        "\n",
        "     -  для каждого набора параметров тренируем модель, подсчитываем ошибку на k различных validation set, усредняем, находим лучший набор параметров\n",
        "\n",
        " - Тренируем модель с лучшим набором параметров на всех данных "
      ]
    },
    {
      "cell_type": "markdown",
      "metadata": {
        "id": "zN4cDrCpxP9S"
      },
      "source": [
        "\n",
        "Для каждой пары (fold, parameter set) можно обучать модель независимо от всех остальных. Мы распараллелим эти задания: scikit-learn будет обучать модель на каждом executor'е. Это параллелизация очень эффективна, так как обучение моделей - самая вычислительно сложная часть ML workflow.\n",
        "\n",
        "Если используются k фолдов и P различных наборов параметров, то во сколько раз можно ускорить вычисление?\n"
      ]
    },
    {
      "cell_type": "markdown",
      "metadata": {
        "id": "dTrqa2NbxP9S"
      },
      "source": [
        "### Отложим random test set\n"
      ]
    },
    {
      "cell_type": "code",
      "metadata": {
        "id": "2M4sNUQCxP9S",
        "colab": {
          "base_uri": "https://localhost:8080/"
        },
        "outputId": "26934b13-78d5-4680-8a43-72d0a51f98eb"
      },
      "source": [
        "from sklearn.model_selection import train_test_split\n",
        "\n",
        "trainingLabels, testLabels, trainingFeatures, testFeatures = train_test_split(labels, features, test_size=0.3)\n",
        "ntrain, ntest = len(trainingLabels), len(testLabels)\n",
        "print('Split data randomly into 2 sets: %d training and %d test instances.' % (ntrain, ntest))"
      ],
      "execution_count": null,
      "outputs": [
        {
          "output_type": "stream",
          "name": "stdout",
          "text": [
            "Split data randomly into 2 sets: 37758 training and 16182 test instances.\n"
          ]
        }
      ]
    },
    {
      "cell_type": "markdown",
      "metadata": {
        "id": "lsmDNYv4apw0"
      },
      "source": [
        ""
      ]
    },
    {
      "cell_type": "markdown",
      "metadata": {
        "id": "GjUxJYn3xP9T"
      },
      "source": [
        "### Разобьем данные и определим таски, которые будем параллелизировать\n",
        "Каждое распределенное задание это пара - (fold, parameter set) pair."
      ]
    },
    {
      "cell_type": "code",
      "metadata": {
        "id": "GVHBDOsZxP9T"
      },
      "source": [
        "from sklearn.model_selection import KFold\n",
        "numFolds = 3 # more (10 or so) in practice\n",
        "kf = KFold(n_splits=numFolds)"
      ],
      "execution_count": null,
      "outputs": []
    },
    {
      "cell_type": "code",
      "metadata": {
        "id": "noY93NmQxP9U"
      },
      "source": [
        "alphas = [0.0, 0.0001, 0.001, 0.01, 0.1, 1.0, 10.0, 100.0, 1000.0]\n",
        "tasks = []\n",
        "for alpha in alphas:\n",
        "    for fold in range(numFolds):\n",
        "        tasks = tasks + [(alpha, fold)]"
      ],
      "execution_count": null,
      "outputs": []
    },
    {
      "cell_type": "code",
      "metadata": {
        "colab": {
          "base_uri": "https://localhost:8080/"
        },
        "id": "fvXY0usPhred",
        "outputId": "c2c62cdb-6066-4298-e3d2-cb8bd2a48635"
      },
      "source": [
        "tasks"
      ],
      "execution_count": null,
      "outputs": [
        {
          "output_type": "execute_result",
          "data": {
            "text/plain": [
              "[(0.0, 0),\n",
              " (0.0, 1),\n",
              " (0.0, 2),\n",
              " (0.0001, 0),\n",
              " (0.0001, 1),\n",
              " (0.0001, 2),\n",
              " (0.001, 0),\n",
              " (0.001, 1),\n",
              " (0.001, 2),\n",
              " (0.01, 0),\n",
              " (0.01, 1),\n",
              " (0.01, 2),\n",
              " (0.1, 0),\n",
              " (0.1, 1),\n",
              " (0.1, 2),\n",
              " (1.0, 0),\n",
              " (1.0, 1),\n",
              " (1.0, 2),\n",
              " (10.0, 0),\n",
              " (10.0, 1),\n",
              " (10.0, 2),\n",
              " (100.0, 0),\n",
              " (100.0, 1),\n",
              " (100.0, 2),\n",
              " (1000.0, 0),\n",
              " (1000.0, 1),\n",
              " (1000.0, 2)]"
            ]
          },
          "metadata": {},
          "execution_count": 20
        }
      ]
    },
    {
      "cell_type": "code",
      "metadata": {
        "colab": {
          "base_uri": "https://localhost:8080/"
        },
        "id": "6Hg-lHmIZYUb",
        "outputId": "677e7f67-413d-4af0-ec08-eb6e367e0767"
      },
      "source": [
        "len(tasks)"
      ],
      "execution_count": null,
      "outputs": [
        {
          "output_type": "execute_result",
          "data": {
            "text/plain": [
              "27"
            ]
          },
          "metadata": {},
          "execution_count": 21
        }
      ]
    },
    {
      "cell_type": "code",
      "metadata": {
        "id": "bKn7O4VhxP9V",
        "colab": {
          "base_uri": "https://localhost:8080/"
        },
        "outputId": "21492031-9fe2-4a5d-8fb9-3118faee320b"
      },
      "source": [
        "tasksRDD = spark.sparkContext.parallelize(tasks, numSlices = len(tasks))\n",
        "tasksRDD.getNumPartitions()"
      ],
      "execution_count": null,
      "outputs": [
        {
          "output_type": "execute_result",
          "data": {
            "text/plain": [
              "27"
            ]
          },
          "metadata": {},
          "execution_count": 22
        }
      ]
    },
    {
      "cell_type": "code",
      "metadata": {
        "colab": {
          "base_uri": "https://localhost:8080/"
        },
        "id": "uG5VrYVj9uC9",
        "outputId": "171fe012-25a9-4a23-a4d0-e90fdea28c9b"
      },
      "source": [
        "tasksRDD.take(10)"
      ],
      "execution_count": null,
      "outputs": [
        {
          "output_type": "execute_result",
          "data": {
            "text/plain": [
              "[(0.0, 0),\n",
              " (0.0, 1),\n",
              " (0.0, 2),\n",
              " (0.0001, 0),\n",
              " (0.0001, 1),\n",
              " (0.0001, 2),\n",
              " (0.001, 0),\n",
              " (0.001, 1),\n",
              " (0.001, 2),\n",
              " (0.01, 0)]"
            ]
          },
          "metadata": {},
          "execution_count": 23
        }
      ]
    },
    {
      "cell_type": "markdown",
      "metadata": {
        "id": "ZAzG34j_xP9V"
      },
      "source": [
        "### Broadcast dataset"
      ]
    },
    {
      "cell_type": "code",
      "metadata": {
        "id": "r_GjL3KYxP9V"
      },
      "source": [
        "trainingFeaturesBroadcast = spark.sparkContext.broadcast(trainingFeatures)\n",
        "trainingLabelsBroadcast = spark.sparkContext.broadcast(trainingLabels)"
      ],
      "execution_count": null,
      "outputs": []
    },
    {
      "cell_type": "markdown",
      "metadata": {
        "id": "jyqpc4F8xP9W"
      },
      "source": [
        "### Запустим параллельную cross-validation\n",
        "\n",
        "Определим функцию, которая будет запускаться на каждом worker'e, эта функция берет одну пару (1 hyperparameter alpha value + 1 fold index) и тренируем соотвествующую модель. Используем RDD.map для этого."
      ]
    },
    {
      "cell_type": "code",
      "metadata": {
        "id": "6-zSG_aMxP9W"
      },
      "source": [
        "from sklearn import linear_model\n",
        "\n",
        "def trainOneModel(alpha, fold):\n",
        "    \"\"\"\n",
        "    Given 1 task (1 hyperparameter alpha value + 1 fold index), train the corresponding model.\n",
        "    Return: model, score on the fold's test data, task info.\n",
        "    \"\"\"\n",
        "    localTrainingFeatures = trainingFeaturesBroadcast.value\n",
        "    localTrainingLabels = trainingLabelsBroadcast.value\n",
        "    trainIndex, valIndex = [], []\n",
        "    fold_ = 0 \n",
        "    \n",
        "    for trainIndex_, valIndex_ in kf.split(localTrainingFeatures):\n",
        "        if fold_ == fold:\n",
        "            trainIndex, valIndex = trainIndex_, valIndex_\n",
        "            break\n",
        "        fold_ += 1\n",
        "    X_train, X_val = localTrainingFeatures[trainIndex], localTrainingFeatures[valIndex]\n",
        "    Y_train, Y_val = localTrainingLabels[trainIndex], localTrainingLabels[valIndex]\n",
        "\n",
        "    clf = linear_model.Ridge(alpha=alpha)\n",
        "    clf.fit(X_train, Y_train)\n",
        "    score = clf.score(X_val, Y_val)\n",
        "    return clf, score, alpha, fold"
      ],
      "execution_count": null,
      "outputs": []
    },
    {
      "cell_type": "code",
      "metadata": {
        "colab": {
          "base_uri": "https://localhost:8080/"
        },
        "id": "o18BK0WIZczy",
        "outputId": "6d8bd3f7-d365-4a65-b4c2-a55662d22b80"
      },
      "source": [
        "trainedModelAndScores = tasksRDD.map(lambda alpha_fold: trainOneModel(alpha_fold[0], alpha_fold[1]))\n",
        "trainedModelAndScores.cache()\n",
        "trainedModelAndScores.count()"
      ],
      "execution_count": null,
      "outputs": [
        {
          "output_type": "execute_result",
          "data": {
            "text/plain": [
              "27"
            ]
          },
          "metadata": {},
          "execution_count": 28
        }
      ]
    },
    {
      "cell_type": "code",
      "metadata": {
        "id": "zUkAH7TAxP9X"
      },
      "source": [
        "trainingFeaturesBroadcast.unpersist()\n",
        "trainingLabelsBroadcast.unpersist()"
      ],
      "execution_count": null,
      "outputs": []
    },
    {
      "cell_type": "markdown",
      "metadata": {
        "id": "55Aa3t4pxP9X"
      },
      "source": [
        "### Соберем результаты для лучшей hyperparameter alpha"
      ]
    },
    {
      "cell_type": "code",
      "metadata": {
        "id": "nzS6MILLxP9X"
      },
      "source": [
        "allScores = trainedModelAndScores.map(lambda x: (x[1], x[2], x[3])).collect()\n",
        "avgScores = dict(map(lambda alpha: (alpha, 0.0), alphas))"
      ],
      "execution_count": null,
      "outputs": []
    },
    {
      "cell_type": "code",
      "metadata": {
        "colab": {
          "base_uri": "https://localhost:8080/"
        },
        "id": "aWdCsoqxZh6O",
        "outputId": "8e93455c-19a8-40f5-a78c-a52d2b30cc67"
      },
      "source": [
        "for score, alpha, fold in allScores:\n",
        "    avgScores[alpha] += score\n",
        "for alpha in alphas:\n",
        "    avgScores[alpha] /= numFolds\n",
        "avgScores"
      ],
      "execution_count": null,
      "outputs": [
        {
          "output_type": "execute_result",
          "data": {
            "text/plain": [
              "{0.0: 0.8952171147519478,\n",
              " 0.0001: 0.8948778676349275,\n",
              " 0.001: 0.8925672219680543,\n",
              " 0.01: 0.8794178595619816,\n",
              " 0.1: 0.7321894107398945,\n",
              " 1.0: 0.22994935735200964,\n",
              " 10.0: 0.028707592359056216,\n",
              " 100.0: 0.002891690528808185,\n",
              " 1000.0: 0.00023805836686626355}"
            ]
          },
          "metadata": {},
          "execution_count": 31
        }
      ]
    },
    {
      "cell_type": "markdown",
      "metadata": {
        "id": "vg-yO1XGxP9Y"
      },
      "source": [
        "Теперь у нас есть список alpha values с соотвествующими средними scores, найдем среди них лучший."
      ]
    },
    {
      "cell_type": "code",
      "metadata": {
        "colab": {
          "base_uri": "https://localhost:8080/"
        },
        "id": "cphwgxN3ZkIP",
        "outputId": "69c11fd9-dd9b-40e4-ebb5-5ff56eb84657"
      },
      "source": [
        "bestAlpha = -1\n",
        "bestScore = -1\n",
        "for alpha in alphas:\n",
        "    if avgScores[alpha] > bestScore:\n",
        "        bestAlpha = alpha\n",
        "        bestScore = avgScores[alpha]\n",
        "print('Found best alpha: %g, which gives score: %g' % (bestAlpha, bestScore))"
      ],
      "execution_count": null,
      "outputs": [
        {
          "output_type": "stream",
          "name": "stdout",
          "text": [
            "Found best alpha: 0, which gives score: 0.895217\n"
          ]
        }
      ]
    },
    {
      "cell_type": "markdown",
      "metadata": {
        "id": "bS4qa4taxP9Z"
      },
      "source": [
        "### Обучим финальную модель с лучшим набором гиперпараметров\n",
        "\n",
        "Так это только 1 таск, то запустим его на драйвере."
      ]
    },
    {
      "cell_type": "code",
      "metadata": {
        "colab": {
          "base_uri": "https://localhost:8080/"
        },
        "id": "Tjp8XLdSZm9C",
        "outputId": "3fa6d558-6f55-4b3c-f18b-cf47405d7005"
      },
      "source": [
        "tunedClf = linear_model.Ridge(alpha=bestAlpha)\n",
        "tunedClf.fit(trainingFeatures, trainingLabels)"
      ],
      "execution_count": null,
      "outputs": [
        {
          "output_type": "execute_result",
          "data": {
            "text/plain": [
              "Ridge(alpha=0.0, copy_X=True, fit_intercept=True, max_iter=None,\n",
              "   normalize=False, random_state=None, solver='auto', tol=0.001)"
            ]
          },
          "metadata": {},
          "execution_count": 34
        }
      ]
    },
    {
      "cell_type": "markdown",
      "metadata": {
        "id": "owo1QCmqxP9Z"
      },
      "source": [
        "### Spark-sklearn\n",
        "https://github.com/databricks/spark-sklearn"
      ]
    },
    {
      "cell_type": "code",
      "metadata": {
        "id": "ijbtf3NNxP9Z"
      },
      "source": [
        "import sys\n",
        "from spark_sklearn import GridSearchCV"
      ],
      "execution_count": null,
      "outputs": []
    },
    {
      "cell_type": "code",
      "metadata": {
        "id": "nshV88NNxP9a",
        "colab": {
          "base_uri": "https://localhost:8080/"
        },
        "outputId": "181e966f-ac5f-4fff-a6bc-d7a05eb7976e"
      },
      "source": [
        "parameters = {\"alpha\": alphas}\n",
        "parameters"
      ],
      "execution_count": null,
      "outputs": [
        {
          "output_type": "execute_result",
          "data": {
            "text/plain": [
              "{'alpha': [0.0, 0.0001, 0.001, 0.01, 0.1, 1.0, 10.0, 100.0, 1000.0]}"
            ]
          },
          "metadata": {},
          "execution_count": 36
        }
      ]
    },
    {
      "cell_type": "code",
      "metadata": {
        "id": "5HS4p7CsxP9a"
      },
      "source": [
        "est = linear_model.Ridge()"
      ],
      "execution_count": null,
      "outputs": []
    },
    {
      "cell_type": "code",
      "metadata": {
        "id": "5pPwXxqFxP9a"
      },
      "source": [
        "clf = GridSearchCV(spark.sparkContext, est, parameters, n_jobs=4)"
      ],
      "execution_count": null,
      "outputs": []
    },
    {
      "cell_type": "code",
      "metadata": {
        "colab": {
          "base_uri": "https://localhost:8080/"
        },
        "id": "zq8A7hJTZvEG",
        "outputId": "5d7c7340-e4f4-4338-ed20-1c3998fdcb94"
      },
      "source": [
        "clf.fit(trainingFeatures, trainingLabels)"
      ],
      "execution_count": null,
      "outputs": [
        {
          "output_type": "execute_result",
          "data": {
            "text/plain": [
              "GridSearchCV(cv=3, error_score='raise',\n",
              "       estimator=Ridge(alpha=1.0, copy_X=True, fit_intercept=True, max_iter=None,\n",
              "   normalize=False, random_state=None, solver='auto', tol=0.001),\n",
              "       fit_params={}, iid=True, n_jobs=4,\n",
              "       param_grid={'alpha': [0.0, 0.0001, 0.001, 0.01, 0.1, 1.0, 10.0, 100.0, 1000.0]},\n",
              "       pre_dispatch='2*n_jobs', refit=True, return_train_score=True,\n",
              "       sc=<SparkContext master=local appName=Colab_pyspark>, scoring=None,\n",
              "       verbose=0)"
            ]
          },
          "metadata": {},
          "execution_count": 39
        }
      ]
    },
    {
      "cell_type": "code",
      "metadata": {
        "colab": {
          "base_uri": "https://localhost:8080/"
        },
        "id": "BMI0l9A_Zwba",
        "outputId": "10f7b953-e26b-4c91-b4cd-13f704246a58"
      },
      "source": [
        "clf.best_estimator_"
      ],
      "execution_count": null,
      "outputs": [
        {
          "output_type": "execute_result",
          "data": {
            "text/plain": [
              "Ridge(alpha=0.0, copy_X=True, fit_intercept=True, max_iter=None,\n",
              "   normalize=False, random_state=None, solver='auto', tol=0.001)"
            ]
          },
          "metadata": {},
          "execution_count": 40
        }
      ]
    },
    {
      "cell_type": "code",
      "metadata": {
        "colab": {
          "base_uri": "https://localhost:8080/"
        },
        "id": "ZooyclfxZx1L",
        "outputId": "ac4d081b-18d1-461f-c756-8d297711eccb"
      },
      "source": [
        "clf.cv_results_"
      ],
      "execution_count": null,
      "outputs": [
        {
          "output_type": "execute_result",
          "data": {
            "text/plain": [
              "{'mean_fit_time': array([0.01274284, 0.00614285, 0.01570074, 0.01767349, 0.00673437,\n",
              "        0.02195795, 0.01981934, 0.01356967, 0.01164532]),\n",
              " 'mean_score_time': array([0.00102901, 0.00235232, 0.00088827, 0.00091434, 0.00108878,\n",
              "        0.00186086, 0.00095224, 0.00089995, 0.00115554]),\n",
              " 'mean_test_score': array([8.95217115e-01, 8.94877868e-01, 8.92567222e-01, 8.79417860e-01,\n",
              "        7.32189411e-01, 2.29949357e-01, 2.87075924e-02, 2.89169053e-03,\n",
              "        2.38058367e-04]),\n",
              " 'mean_train_score': array([8.95436560e-01, 8.95157310e-01, 8.92643128e-01, 8.79559652e-01,\n",
              "        7.32217107e-01, 2.29993214e-01, 2.87635299e-02, 2.94913831e-03,\n",
              "        2.95660670e-04]),\n",
              " 'param_alpha': masked_array(data=[0.0, 0.0001, 0.001, 0.01, 0.1, 1.0, 10.0, 100.0,\n",
              "                    1000.0],\n",
              "              mask=[False, False, False, False, False, False, False, False,\n",
              "                    False],\n",
              "        fill_value='?',\n",
              "             dtype=object),\n",
              " 'params': ({'alpha': 0.0},\n",
              "  {'alpha': 0.0001},\n",
              "  {'alpha': 0.001},\n",
              "  {'alpha': 0.01},\n",
              "  {'alpha': 0.1},\n",
              "  {'alpha': 1.0},\n",
              "  {'alpha': 10.0},\n",
              "  {'alpha': 100.0},\n",
              "  {'alpha': 1000.0}),\n",
              " 'rank_test_score': array([1, 2, 3, 4, 5, 6, 7, 8, 9], dtype=int32),\n",
              " 'split0_test_score': array([8.94450925e-01, 8.93750168e-01, 8.91483406e-01, 8.76601832e-01,\n",
              "        7.30567111e-01, 2.29878156e-01, 2.87613361e-02, 2.94906009e-03,\n",
              "        2.95654271e-04]),\n",
              " 'split0_train_score': array([8.95728797e-01, 8.95466826e-01, 8.93085776e-01, 8.80455564e-01,\n",
              "        7.33867707e-01, 2.30639855e-01, 2.88498466e-02, 2.95806036e-03,\n",
              "        2.96555877e-04]),\n",
              " 'split1_test_score': array([8.96727857e-01, 8.96652552e-01, 8.94514233e-01, 8.82576927e-01,\n",
              "        7.35113692e-01, 2.30712116e-01, 2.87701670e-02, 2.87200443e-03,\n",
              "        2.10013727e-04]),\n",
              " 'split1_train_score': array([8.94721795e-01, 8.94422795e-01, 8.91805302e-01, 8.78384889e-01,\n",
              "        7.30583280e-01, 2.29255225e-01, 2.86618720e-02, 2.93859605e-03,\n",
              "        2.94602551e-04]),\n",
              " 'split2_test_score': array([8.94472563e-01, 8.94230884e-01, 8.91704027e-01, 8.79074820e-01,\n",
              "        7.30887429e-01, 2.29257801e-01, 2.85912740e-02, 2.85400706e-03,\n",
              "        2.08507103e-04]),\n",
              " 'split2_train_score': array([8.95859087e-01, 8.95582308e-01, 8.93038307e-01, 8.79838505e-01,\n",
              "        7.32200335e-01, 2.30084561e-01, 2.87788711e-02, 2.95075850e-03,\n",
              "        2.95823581e-04]),\n",
              " 'std_fit_time': array([5.02253315e-03, 7.90150490e-05, 6.94346060e-03, 1.75151346e-03,\n",
              "        5.58277285e-04, 6.93848768e-03, 4.53567407e-03, 4.07055162e-03,\n",
              "        3.73414301e-03]),\n",
              " 'std_score_time': array([1.33935373e-04, 2.11122409e-03, 4.44918852e-05, 3.99278164e-05,\n",
              "        3.09878143e-04, 7.16074581e-04, 1.84811568e-05, 1.23062382e-05,\n",
              "        3.56748630e-04]),\n",
              " 'std_test_score': array([1.06829248e-03, 1.27014419e-03, 1.37968807e-03, 2.45135316e-03,\n",
              "        2.07191020e-03, 5.95852486e-04, 8.23285051e-05, 4.12264207e-05,\n",
              "        4.07310987e-05]),\n",
              " 'std_train_score': array([5.08206169e-04, 5.21515425e-04, 5.92749497e-04, 8.68041054e-04,\n",
              "        1.34091401e-03, 5.68951265e-04, 7.75032398e-05, 8.02843413e-06,\n",
              "        8.05719590e-07])}"
            ]
          },
          "metadata": {},
          "execution_count": 41
        }
      ]
    },
    {
      "cell_type": "markdown",
      "metadata": {
        "id": "zGCxRgVwxP9c"
      },
      "source": [
        "## Model conversion"
      ]
    },
    {
      "cell_type": "code",
      "metadata": {
        "id": "EcoNEbYExP9c"
      },
      "source": [
        "from spark_sklearn import Converter"
      ],
      "execution_count": null,
      "outputs": []
    },
    {
      "cell_type": "code",
      "metadata": {
        "id": "NkxYiZo5xP9c"
      },
      "source": [
        "converter = Converter(sc)"
      ],
      "execution_count": null,
      "outputs": []
    },
    {
      "cell_type": "code",
      "metadata": {
        "id": "FagFS8uTxP9c"
      },
      "source": [
        "est = linear_model.LinearRegression()"
      ],
      "execution_count": null,
      "outputs": []
    },
    {
      "cell_type": "code",
      "metadata": {
        "colab": {
          "base_uri": "https://localhost:8080/"
        },
        "id": "BPY9So0GZ0Xx",
        "outputId": "14f541c0-7e8f-415d-8ba4-48b95cbb6f18"
      },
      "source": [
        "type(est.fit(trainingFeatures, trainingLabels))"
      ],
      "execution_count": null,
      "outputs": [
        {
          "output_type": "execute_result",
          "data": {
            "text/plain": [
              "sklearn.linear_model.base.LinearRegression"
            ]
          },
          "metadata": {},
          "execution_count": 45
        }
      ]
    },
    {
      "cell_type": "code",
      "metadata": {
        "id": "d4pXaBLaxP9d"
      },
      "source": [
        "spark_est = converter.toSpark(est)"
      ],
      "execution_count": null,
      "outputs": []
    },
    {
      "cell_type": "code",
      "metadata": {
        "colab": {
          "base_uri": "https://localhost:8080/"
        },
        "id": "cXLof5dqZ2B4",
        "outputId": "5b6fde98-501c-4391-e7cc-833cce7121b4"
      },
      "source": [
        "type(spark_est)"
      ],
      "execution_count": null,
      "outputs": [
        {
          "output_type": "execute_result",
          "data": {
            "text/plain": [
              "pyspark.ml.regression.LinearRegressionModel"
            ]
          },
          "metadata": {},
          "execution_count": 47
        }
      ]
    },
    {
      "cell_type": "code",
      "metadata": {
        "colab": {
          "base_uri": "https://localhost:8080/"
        },
        "id": "wJxAUNtXZ3Xk",
        "outputId": "36941d04-d12f-48e4-cf48-ed0273c59d58"
      },
      "source": [
        "spark_est.coefficients, spark_est.intercept"
      ],
      "execution_count": null,
      "outputs": [
        {
          "output_type": "execute_result",
          "data": {
            "text/plain": [
              "(DenseVector([2324452.1579, 106742.4077, 253151.2192, 297410.8291, -1325948.0436, -435920.9465, -1388800.1117, 43757.9117, 7738.0288]),\n",
              " 6043.163969614121)"
            ]
          },
          "metadata": {},
          "execution_count": 48
        }
      ]
    },
    {
      "cell_type": "code",
      "metadata": {
        "id": "B9tGkHNnxP9e"
      },
      "source": [
        "from pyspark.sql.types import *\n",
        "from pyspark.ml.linalg import DenseVector, VectorUDT"
      ],
      "execution_count": null,
      "outputs": []
    },
    {
      "cell_type": "code",
      "metadata": {
        "id": "LZ9-3rM3xP9e"
      },
      "source": [
        "schema = StructType(fields=[\n",
        "    StructField(\"features\", VectorUDT()),\n",
        "    StructField(\"labels\", IntegerType())\n",
        "])"
      ],
      "execution_count": null,
      "outputs": []
    },
    {
      "cell_type": "code",
      "metadata": {
        "id": "ppFZMo-AxP9e"
      },
      "source": [
        "test_df = spark.createDataFrame(zip(map(DenseVector, testFeatures), map(int, testLabels)), schema=schema)"
      ],
      "execution_count": null,
      "outputs": []
    },
    {
      "cell_type": "code",
      "metadata": {
        "id": "Pv2sHc2OaAuP",
        "colab": {
          "base_uri": "https://localhost:8080/"
        },
        "outputId": "cd391a27-a056-4741-8ffe-a33ed9686bec"
      },
      "source": [
        "test_df.show()"
      ],
      "execution_count": null,
      "outputs": [
        {
          "output_type": "stream",
          "name": "stdout",
          "text": [
            "+--------------------+------+\n",
            "|            features|labels|\n",
            "+--------------------+------+\n",
            "|[0.00788666607325...|  9276|\n",
            "|[0.00709799946592...|  9596|\n",
            "|[0.00259796058883...|  1580|\n",
            "|[0.00231960766860...|  2180|\n",
            "|[0.00139176460116...|   405|\n",
            "|[0.00269074489558...|  1899|\n",
            "|[0.00329384288941...|  2743|\n",
            "|[0.00143815675453...|   503|\n",
            "|[0.00320105858267...|  2235|\n",
            "|[0.00190207828825...|   683|\n",
            "|[0.00185568613488...|  1397|\n",
            "|[0.00171650967476...|   681|\n",
            "|[0.00561345055802...|  5529|\n",
            "|[0.00463921533720...|  3977|\n",
            "|[0.00468560749057...|  7455|\n",
            "|[0.00477839179732...|  6558|\n",
            "|[0.00180929398151...|  1107|\n",
            "|[0.00139176460116...|   844|\n",
            "|[0.00199486259499...|   696|\n",
            "|[0.00236599982197...|  1778|\n",
            "+--------------------+------+\n",
            "only showing top 20 rows\n",
            "\n"
          ]
        }
      ]
    },
    {
      "cell_type": "code",
      "metadata": {
        "id": "i_iVYw6xaCPe",
        "colab": {
          "base_uri": "https://localhost:8080/"
        },
        "outputId": "24726e4b-1930-4bd8-b471-da37271018da"
      },
      "source": [
        "spark_est.transform(test_df).show()"
      ],
      "execution_count": null,
      "outputs": [
        {
          "output_type": "stream",
          "name": "stdout",
          "text": [
            "+--------------------+------+-------------------+\n",
            "|            features|labels|         prediction|\n",
            "+--------------------+------+-------------------+\n",
            "|[0.00788666607325...|  9276| 11296.620231638692|\n",
            "|[0.00709799946592...|  9596|  9858.416315002723|\n",
            "|[0.00259796058883...|  1580| 1865.1855745771973|\n",
            "|[0.00231960766860...|  2180|  1689.371573917042|\n",
            "|[0.00139176460116...|   405|-1615.6485644556606|\n",
            "|[0.00269074489558...|  1899| 2618.6867921700714|\n",
            "|[0.00329384288941...|  2743|  3363.065116162206|\n",
            "|[0.00143815675453...|   503|-460.47274751667373|\n",
            "|[0.00320105858267...|  2235|  2132.080121836687|\n",
            "|[0.00190207828825...|   683| -222.0904419904209|\n",
            "|[0.00185568613488...|  1397|  1942.235590016593|\n",
            "|[0.00171650967476...|   681| 199.81841346109195|\n",
            "|[0.00561345055802...|  5529|  6781.623232343527|\n",
            "|[0.00463921533720...|  3977|  5278.026004134679|\n",
            "|[0.00468560749057...|  7455|  5548.580869659747|\n",
            "|[0.00477839179732...|  6558|  5731.986774714591|\n",
            "|[0.00180929398151...|  1107| 1357.6523872960688|\n",
            "|[0.00139176460116...|   844|  620.9097432580129|\n",
            "|[0.00199486259499...|   696|  443.4630474152709|\n",
            "|[0.00236599982197...|  1778|  1703.273156349107|\n",
            "+--------------------+------+-------------------+\n",
            "only showing top 20 rows\n",
            "\n"
          ]
        }
      ]
    },
    {
      "cell_type": "code",
      "metadata": {
        "id": "IkjJUzW_xP9f"
      },
      "source": [
        "spark.stop()"
      ],
      "execution_count": null,
      "outputs": []
    },
    {
      "cell_type": "code",
      "metadata": {
        "id": "qpBaVMb1tZjH"
      },
      "source": [
        ""
      ],
      "execution_count": null,
      "outputs": []
    }
  ]
}