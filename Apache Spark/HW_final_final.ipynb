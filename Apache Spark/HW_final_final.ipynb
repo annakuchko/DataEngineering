{
  "nbformat": 4,
  "nbformat_minor": 0,
  "metadata": {
    "colab": {
      "name": "HW-final.ipynb",
      "provenance": [],
      "collapsed_sections": []
    },
    "kernelspec": {
      "name": "python3",
      "display_name": "Python 3"
    },
    "language_info": {
      "name": "python"
    }
  },
  "cells": [
    {
      "cell_type": "markdown",
      "metadata": {
        "id": "yS6iWrHV9Gcm"
      },
      "source": [
        "# Кредитный скоринг\n",
        "При принятии решения о выдаче кредита или займа учитывается т.н. «Кредитный скоринг» — рейтинг платежеспособности клиента. ИИ на основе модели, которую просчитывает машинное обучение — в ней много параметров — возраст, зарплата, кредитная история, наличие недвижимости, автомобиля, судимости и других признаков, после обработки которых выносится положительное или отрицательное решение"
      ]
    },
    {
      "cell_type": "code",
      "metadata": {
        "id": "qU2mMtRS9Fqf",
        "colab": {
          "base_uri": "https://localhost:8080/"
        },
        "outputId": "6303fb11-2f06-456a-a697-da9c9b331fa8"
      },
      "source": [
        "# Импортируем библиотеки\n",
        "%matplotlib inline\n",
        "%config InlineBackend.figure_format = 'svg'\n",
        "\n",
        "!pip install pyspark\n",
        "\n",
        "import warnings\n",
        "warnings.filterwarnings('ignore')\n",
        "import numpy as np\n",
        "import pandas as pd   \n",
        "import matplotlib.pyplot as plt\n",
        "import seaborn as sns\n",
        "import itertools\n",
        "\n",
        "from pyspark.ml.classification import LogisticRegression\n",
        "from pyspark.ml.feature import OneHotEncoder, MinMaxScaler\n",
        "from pyspark.sql import SparkSession, functions as f\n",
        "\n",
        "\n",
        "spark = SparkSession.builder\\\n",
        "    .master(\"local[2]\")\\\n",
        "    .appName(\"Lesson_2\")\\\n",
        "    .config(\"spark.executor.instances\",2)\\\n",
        "    .config(\"spark.executor.memory\",'2g')\\\n",
        "    .config(\"spark.executor.cores\",1)\\\n",
        "    .getOrCreate()\n",
        "sc = spark.sparkContext"
      ],
      "execution_count": 157,
      "outputs": [
        {
          "output_type": "stream",
          "name": "stdout",
          "text": [
            "Requirement already satisfied: pyspark in /usr/local/lib/python3.7/dist-packages (3.1.2)\n",
            "Requirement already satisfied: py4j==0.10.9 in /usr/local/lib/python3.7/dist-packages (from pyspark) (0.10.9)\n"
          ]
        }
      ]
    },
    {
      "cell_type": "markdown",
      "metadata": {
        "id": "LMtO2wAZFzf1"
      },
      "source": [
        "# Данные:\n",
        "[скачать](https://drive.google.com/file/d/1MuAyZiIm3b_r-AgQSj78tsRPqZpvv_2s/view?usp=sharing)\n",
        "\n",
        "**application_record.csv**\n",
        "*   Feature name\tExplanation\tRemarks\n",
        "*   ID\tClient number\t\n",
        "*   CODE_GENDER\tGender\t\n",
        "*   FLAG_OWN_CAR\tIs there a car\t\n",
        "*   FLAG_OWN_REALTY\tIs there a property\t\n",
        "*   CNT_CHILDREN\tNumber of children\t\n",
        "*   AMT_INCOME_TOTAL\tAnnual income\t\n",
        "*   NAME_INCOME_TYPE\tIncome category\t\n",
        "*   NAME_EDUCATION_TYPE\tEducation level\t\n",
        "*   NAME_FAMILY_STATUS\tMarital status\t\n",
        "*   NAME_HOUSING_TYPE\tWay of living\t\n",
        "*   DAYS_BIRTH\tBirthday\tCount backwards from current day (0), -1 means yesterday\n",
        "*   DAYS_EMPLOYED\tStart date of employment\tCount backwards from current day(0). If positive, it means the person currently unemployed.\n",
        "FLAG_MOBIL\tIs there a mobile phone\t\n",
        "*   FLAG_WORK_PHONE\tIs there a work phone\t\n",
        "*   FLAG_PHONE\tIs there a phone\t\n",
        "*   FLAG_EMAIL\tIs there an email\t\n",
        "*   OCCUPATION_TYPE\tOccupation\t\n",
        "*   CNT_FAM_MEMBERS\tFamily size\t\n",
        "\n",
        "**credit_record.csv**\n",
        "*   Feature name\tExplanation\tRemarks\n",
        "*   ID\tClient number\t\n",
        "*   MONTHS_BALANCE\tRecord month\tThe month of the extracted data is the starting point, backwards, 0 is the current month, -1 is the previous month, and so on\n",
        "*   STATUS\tStatus\t\n",
        "   *   0: 1-29 days past due\n",
        "   *   1: 30-59 days past due \n",
        "   *   2: 60-89 days overdue \n",
        "   *   3: 90-119 days overdue \n",
        "   *   4: 120-149 days overdue \n",
        "    *   5: Overdue or bad debts, write-offs for more than 150 days\n",
        "    *   C: paid off that month X: No loan for the month\n"
      ]
    },
    {
      "cell_type": "markdown",
      "metadata": {
        "id": "11v9SXDGDgEv"
      },
      "source": [
        "## Считываем данные"
      ]
    },
    {
      "cell_type": "code",
      "metadata": {
        "id": "H-abYwEI-SW_"
      },
      "source": [
        "data = spark.read.csv('application_record.csv', header=True)\n",
        "record = spark.read.csv('credit_record.csv', header=True)"
      ],
      "execution_count": 158,
      "outputs": []
    },
    {
      "cell_type": "code",
      "metadata": {
        "colab": {
          "base_uri": "https://localhost:8080/"
        },
        "id": "LMnVGISOYTPM",
        "outputId": "d643a63e-0486-440b-b143-7933d0531f05"
      },
      "source": [
        "new_data = data.join(record.groupBy('ID').agg((f.min('MONTHS_BALANCE')*-1).alias('BEGIN_MONTH')), how='left', on='ID')\n",
        "\n",
        "def default(status):\n",
        "    try:\n",
        "      if int(status) >= 2:\n",
        "        return 'Yes'\n",
        "      else:\n",
        "        return 'No'\n",
        "    except:\n",
        "      return 'No'\n",
        "\n",
        "func_udf = f.udf(default)\n",
        "cpunt = record.withColumn(\n",
        "    'dep_value', \n",
        "    func_udf(record['STATUS'])\n",
        "    ).groupBy('ID').agg(\n",
        "    f.count('dep_value').alias('dep_count')\n",
        "    ).withColumn(\n",
        "    'dep_value', \n",
        "    f.when(\n",
        "        f.col('dep_count')>0, \n",
        "        'Yes'\n",
        "        ).otherwise('No')\n",
        "        )\n",
        "new_data = new_data.join(\n",
        "    cpunt, \n",
        "    how='left', \n",
        "    on='ID'\n",
        "    ).withColumn(\n",
        "        'target', \n",
        "        f.when(f.col('dep_value')=='Yes', 1).otherwise(0)\n",
        "        )\n",
        "\n",
        "new_data.show(5)"
      ],
      "execution_count": 191,
      "outputs": [
        {
          "output_type": "stream",
          "name": "stdout",
          "text": [
            "+-------+-----------+------------+---------------+------------+----------------+--------------------+--------------------+--------------------+-----------------+----------+-------------+----------+---------------+----------+----------+---------------+---------------+-----------+---------+---------+------+\n",
            "|     ID|CODE_GENDER|FLAG_OWN_CAR|FLAG_OWN_REALTY|CNT_CHILDREN|AMT_INCOME_TOTAL|    NAME_INCOME_TYPE| NAME_EDUCATION_TYPE|  NAME_FAMILY_STATUS|NAME_HOUSING_TYPE|DAYS_BIRTH|DAYS_EMPLOYED|FLAG_MOBIL|FLAG_WORK_PHONE|FLAG_PHONE|FLAG_EMAIL|OCCUPATION_TYPE|CNT_FAM_MEMBERS|BEGIN_MONTH|dep_count|dep_value|target|\n",
            "+-------+-----------+------------+---------------+------------+----------------+--------------------+--------------------+--------------------+-----------------+----------+-------------+----------+---------------+----------+----------+---------------+---------------+-----------+---------+---------+------+\n",
            "|5008804|          M|           Y|              Y|           0|        427500.0|             Working|    Higher education|      Civil marriage| Rented apartment|    -12005|        -4542|         1|              1|         0|         0|           null|            2.0|        1.0|       16|      Yes|     1|\n",
            "|5008805|          M|           Y|              Y|           0|        427500.0|             Working|    Higher education|      Civil marriage| Rented apartment|    -12005|        -4542|         1|              1|         0|         0|           null|            2.0|        1.0|       15|      Yes|     1|\n",
            "|5008806|          M|           Y|              Y|           0|        112500.0|             Working|Secondary / secon...|             Married|House / apartment|    -21474|        -1134|         1|              0|         0|         0| Security staff|            2.0|        1.0|       30|      Yes|     1|\n",
            "|5008808|          F|           N|              Y|           0|        270000.0|Commercial associate|Secondary / secon...|Single / not married|House / apartment|    -19110|        -3051|         1|              0|         1|         1|    Sales staff|            1.0|        1.0|        5|      Yes|     1|\n",
            "|5008809|          F|           N|              Y|           0|        270000.0|Commercial associate|Secondary / secon...|Single / not married|House / apartment|    -19110|        -3051|         1|              0|         1|         1|    Sales staff|            1.0|       22.0|        5|      Yes|     1|\n",
            "+-------+-----------+------------+---------------+------------+----------------+--------------------+--------------------+--------------------+-----------------+----------+-------------+----------+---------------+----------+----------+---------------+---------------+-----------+---------+---------+------+\n",
            "only showing top 5 rows\n",
            "\n"
          ]
        }
      ]
    },
    {
      "cell_type": "code",
      "metadata": {
        "id": "vnp4IifWJ5Lq",
        "colab": {
          "base_uri": "https://localhost:8080/"
        },
        "outputId": "b3226fb8-fb8b-4a50-dedb-c7d527add0bd"
      },
      "source": [
        "# Упростим себе задачу и оставим толкь часть признаков\n",
        "from pyspark.sql.types import FloatType, IntegerType\n",
        "features = ['AMT_INCOME_TOTAL', 'CODE_GENDER', 'FLAG_OWN_CAR', 'FLAG_OWN_REALTY', 'CNT_CHILDREN']\t\n",
        "target = ['target']\n",
        "dataset = new_data.select(features + target)\n",
        "dataset = dataset.withColumn(\"AMT_INCOME_TOTAL\", dataset[\"AMT_INCOME_TOTAL\"].cast(FloatType()))\n",
        "dataset = dataset.withColumn(\"CNT_CHILDREN\", dataset[\"CNT_CHILDREN\"].cast(IntegerType()))\n",
        "dataset.show(5)"
      ],
      "execution_count": 192,
      "outputs": [
        {
          "output_type": "stream",
          "name": "stdout",
          "text": [
            "+----------------+-----------+------------+---------------+------------+------+\n",
            "|AMT_INCOME_TOTAL|CODE_GENDER|FLAG_OWN_CAR|FLAG_OWN_REALTY|CNT_CHILDREN|target|\n",
            "+----------------+-----------+------------+---------------+------------+------+\n",
            "|        427500.0|          M|           Y|              Y|           0|     1|\n",
            "|        427500.0|          M|           Y|              Y|           0|     1|\n",
            "|        112500.0|          M|           Y|              Y|           0|     1|\n",
            "|        270000.0|          F|           N|              Y|           0|     1|\n",
            "|        270000.0|          F|           N|              Y|           0|     1|\n",
            "+----------------+-----------+------------+---------------+------------+------+\n",
            "only showing top 5 rows\n",
            "\n"
          ]
        }
      ]
    },
    {
      "cell_type": "code",
      "metadata": {
        "colab": {
          "base_uri": "https://localhost:8080/"
        },
        "id": "rWUMbpZ_f5LH",
        "outputId": "d3453895-9d25-4807-844d-e301536cb7a4"
      },
      "source": [
        "dataset.select('target').distinct().show()"
      ],
      "execution_count": 193,
      "outputs": [
        {
          "output_type": "stream",
          "name": "stdout",
          "text": [
            "+------+\n",
            "|target|\n",
            "+------+\n",
            "|     1|\n",
            "|     0|\n",
            "+------+\n",
            "\n"
          ]
        }
      ]
    },
    {
      "cell_type": "markdown",
      "metadata": {
        "id": "nbdj50CcDk3o"
      },
      "source": [
        "У нас есть выборка, где указаны параметры клиента, и вышел ли он на просрочку или нет.\n",
        "\n",
        "Дальше будем исследовать, есть ли связь между этими параметрами и возвратом кредита.\n",
        "\n",
        "Можете уже на этом этапе предложить гипотезы, а мы их проверим. Предположим, что чем больше детей, тем меньше вероятность, что будет просрочка."
      ]
    },
    {
      "cell_type": "code",
      "metadata": {
        "id": "g5OIVqemDICB"
      },
      "source": [
        "# Разделим выборку на трейн и тест, на трейн будем обучать модель, на тест валидировать.\n",
        "data_train, data_test = dataset.randomSplit([0.7, 0.3], seed=42)"
      ],
      "execution_count": 194,
      "outputs": []
    },
    {
      "cell_type": "code",
      "metadata": {
        "colab": {
          "base_uri": "https://localhost:8080/",
          "height": 143
        },
        "id": "t6KzGsq3DLM_",
        "outputId": "6b3fd9b5-32e0-4472-e6f9-4e6c433a4905"
      },
      "source": [
        "# Давайте так же глянем корреляции (у численных)\n",
        "# И мы наблюдаем, что корреляции почти нет\n",
        "from pyspark.ml.stat import Correlation\n",
        "from pyspark.ml.feature import VectorAssembler\n",
        "\n",
        "def correlation_matrix(df, corr_columns, method='pearson'):\n",
        "    vector_col = \"corr_features\"\n",
        "    assembler = VectorAssembler(inputCols=corr_columns, outputCol=vector_col)\n",
        "    df_vector = assembler.transform(df).select(vector_col)\n",
        "    matrix = Correlation.corr(df_vector, vector_col, method)\n",
        "\n",
        "    result = matrix.collect()[0][\"pearson({})\".format(vector_col)].values\n",
        "    return pd.DataFrame(result.reshape(-1, len(corr_columns)), columns=corr_columns, index=corr_columns)\n",
        "\n",
        "num_cols = [item[0] for item in data_train.dtypes if not item[1].startswith('string')] \n",
        "cat_cols = [item[0] for item in data_train.dtypes if item[1].startswith('string')]\n",
        "\n",
        "correlation_matrix(data_train, num_cols)"
      ],
      "execution_count": 197,
      "outputs": [
        {
          "output_type": "execute_result",
          "data": {
            "text/html": [
              "<div>\n",
              "<style scoped>\n",
              "    .dataframe tbody tr th:only-of-type {\n",
              "        vertical-align: middle;\n",
              "    }\n",
              "\n",
              "    .dataframe tbody tr th {\n",
              "        vertical-align: top;\n",
              "    }\n",
              "\n",
              "    .dataframe thead th {\n",
              "        text-align: right;\n",
              "    }\n",
              "</style>\n",
              "<table border=\"1\" class=\"dataframe\">\n",
              "  <thead>\n",
              "    <tr style=\"text-align: right;\">\n",
              "      <th></th>\n",
              "      <th>AMT_INCOME_TOTAL</th>\n",
              "      <th>CNT_CHILDREN</th>\n",
              "      <th>target</th>\n",
              "    </tr>\n",
              "  </thead>\n",
              "  <tbody>\n",
              "    <tr>\n",
              "      <th>AMT_INCOME_TOTAL</th>\n",
              "      <td>1.000000</td>\n",
              "      <td>0.017319</td>\n",
              "      <td>-0.003738</td>\n",
              "    </tr>\n",
              "    <tr>\n",
              "      <th>CNT_CHILDREN</th>\n",
              "      <td>0.017319</td>\n",
              "      <td>1.000000</td>\n",
              "      <td>0.000043</td>\n",
              "    </tr>\n",
              "    <tr>\n",
              "      <th>target</th>\n",
              "      <td>-0.003738</td>\n",
              "      <td>0.000043</td>\n",
              "      <td>1.000000</td>\n",
              "    </tr>\n",
              "  </tbody>\n",
              "</table>\n",
              "</div>"
            ],
            "text/plain": [
              "                  AMT_INCOME_TOTAL  CNT_CHILDREN    target\n",
              "AMT_INCOME_TOTAL          1.000000      0.017319 -0.003738\n",
              "CNT_CHILDREN              0.017319      1.000000  0.000043\n",
              "target                   -0.003738      0.000043  1.000000"
            ]
          },
          "metadata": {},
          "execution_count": 197
        }
      ]
    },
    {
      "cell_type": "code",
      "metadata": {
        "id": "ns6roYhrBvje"
      },
      "source": [
        "num_cols = list(set(num_cols) - set(['target']))"
      ],
      "execution_count": 198,
      "outputs": []
    },
    {
      "cell_type": "code",
      "metadata": {
        "id": "FMNW38tmOrf0"
      },
      "source": [
        "# Превращаем категориальные факторы в численные\n",
        "from pyspark.ml import Pipeline\n",
        "from pyspark.ml.feature import VectorIndexer, VectorAssembler\n",
        "\n",
        "indexers = [\n",
        "    StringIndexer(inputCol=c, outputCol=\"{0}_indexed\".format(c))\n",
        "    for c in cat_cols\n",
        "]\n",
        "\n",
        "# The encode of indexed vlaues multiple columns\n",
        "encoders = [OneHotEncoder(dropLast=False,inputCol=indexer.getOutputCol(),\n",
        "            outputCol=\"{0}_encoded\".format(indexer.getOutputCol())) \n",
        "    for indexer in indexers\n",
        "]\n",
        "\n",
        "assembler1 = [VectorAssembler(inputCols=[c], outputCol=f\"{c}_vec\") for c in num_cols]\n",
        "\n",
        "scalers = [\n",
        "           MinMaxScaler(\n",
        "               inputCol=ass.getOutputCol(), \n",
        "               outputCol=ass.getOutputCol() + \"_scaled\"\n",
        "               ) for ass in assembler1\n",
        "           ]\n",
        "in_cols = [encoder.getOutputCol() for encoder in encoders]+\\\n",
        "    [scaler.getOutputCol() for scaler in scalers]\n",
        "assembler2 = [VectorAssembler(\n",
        "    inputCols=in_cols,\n",
        "    outputCol=\"transformed_features\"\n",
        ")]\n",
        "\n",
        "stages = indexers + encoders + assembler1 + scalers + assembler2\n",
        "pipeline = Pipeline(stages=stages).fit(dataset)\n",
        "data_train_tr = pipeline.transform(data_train)\n",
        "data_test_tr = pipeline.transform(data_test)"
      ],
      "execution_count": 216,
      "outputs": []
    },
    {
      "cell_type": "code",
      "metadata": {
        "colab": {
          "base_uri": "https://localhost:8080/"
        },
        "id": "kLf_RewKFDdN",
        "outputId": "7ed50ad4-b3e1-4896-943e-37c3abbee15e"
      },
      "source": [
        "data_train_tr.show(5)"
      ],
      "execution_count": 217,
      "outputs": [
        {
          "output_type": "stream",
          "name": "stdout",
          "text": [
            "+----------------+-----------+------------+---------------+------------+------+-------------------+--------------------+-----------------------+---------------------------+----------------------------+-------------------------------+--------------------+----------------+---------------------------+-----------------------+--------------------+\n",
            "|AMT_INCOME_TOTAL|CODE_GENDER|FLAG_OWN_CAR|FLAG_OWN_REALTY|CNT_CHILDREN|target|CODE_GENDER_indexed|FLAG_OWN_CAR_indexed|FLAG_OWN_REALTY_indexed|CODE_GENDER_indexed_encoded|FLAG_OWN_CAR_indexed_encoded|FLAG_OWN_REALTY_indexed_encoded|AMT_INCOME_TOTAL_vec|CNT_CHILDREN_vec|AMT_INCOME_TOTAL_vec_scaled|CNT_CHILDREN_vec_scaled|transformed_features|\n",
            "+----------------+-----------+------------+---------------+------------+------+-------------------+--------------------+-----------------------+---------------------------+----------------------------+-------------------------------+--------------------+----------------+---------------------------+-----------------------+--------------------+\n",
            "|         27000.0|          F|           N|              N|           0|     0|                0.0|                 0.0|                    1.0|              (2,[0],[1.0])|               (2,[0],[1.0])|                  (2,[1],[1.0])|           [27000.0]|           [0.0]|       [1.33850890108419...|                  [0.0]|(8,[0,2,5,6],[1.0...|\n",
            "|         27000.0|          F|           N|              N|           0|     0|                0.0|                 0.0|                    1.0|              (2,[0],[1.0])|               (2,[0],[1.0])|                  (2,[1],[1.0])|           [27000.0]|           [0.0]|       [1.33850890108419...|                  [0.0]|(8,[0,2,5,6],[1.0...|\n",
            "|         27000.0|          F|           N|              N|           0|     0|                0.0|                 0.0|                    1.0|              (2,[0],[1.0])|               (2,[0],[1.0])|                  (2,[1],[1.0])|           [27000.0]|           [0.0]|       [1.33850890108419...|                  [0.0]|(8,[0,2,5,6],[1.0...|\n",
            "|         27000.0|          F|           N|              N|           0|     0|                0.0|                 0.0|                    1.0|              (2,[0],[1.0])|               (2,[0],[1.0])|                  (2,[1],[1.0])|           [27000.0]|           [0.0]|       [1.33850890108419...|                  [0.0]|(8,[0,2,5,6],[1.0...|\n",
            "|         27000.0|          F|           N|              N|           0|     0|                0.0|                 0.0|                    1.0|              (2,[0],[1.0])|               (2,[0],[1.0])|                  (2,[1],[1.0])|           [27000.0]|           [0.0]|       [1.33850890108419...|                  [0.0]|(8,[0,2,5,6],[1.0...|\n",
            "+----------------+-----------+------------+---------------+------------+------+-------------------+--------------------+-----------------------+---------------------------+----------------------------+-------------------------------+--------------------+----------------+---------------------------+-----------------------+--------------------+\n",
            "only showing top 5 rows\n",
            "\n"
          ]
        }
      ]
    },
    {
      "cell_type": "markdown",
      "metadata": {
        "id": "k6iYtYBSQrZw"
      },
      "source": [
        "#  Модель"
      ]
    },
    {
      "cell_type": "markdown",
      "metadata": {
        "id": "VuSmxHiRM-AR"
      },
      "source": [
        "Модель будет находить коэффициенты alpha и beta, где Х наши колонки/факторы. Погуглите подробнее, но данная формула даёт вероятность события."
      ]
    },
    {
      "cell_type": "markdown",
      "metadata": {
        "id": "BTFxYtbqM6Ac"
      },
      "source": [
        "![Peq2.jpg](data:image/jpeg;base64,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)"
      ]
    },
    {
      "cell_type": "code",
      "metadata": {
        "id": "67opqS-YDNhv"
      },
      "source": [
        "# Создадим простейшую модель, которая покажет через линейные коэффиценты связь переменных и таргета\n",
        "model = LogisticRegression(featuresCol='transformed_features', labelCol='target')\n",
        "model = model.fit(data_train_tr)"
      ],
      "execution_count": 218,
      "outputs": []
    },
    {
      "cell_type": "code",
      "metadata": {
        "id": "so8d31DZcyki"
      },
      "source": [
        "pred_train = model.transform(data_train_tr)\n",
        "pred_test = model.transform(data_test_tr)"
      ],
      "execution_count": 224,
      "outputs": []
    },
    {
      "cell_type": "code",
      "metadata": {
        "colab": {
          "base_uri": "https://localhost:8080/"
        },
        "id": "aGkaz9GydLIg",
        "outputId": "8b963dd1-4b45-426b-c7db-59fbaf142521"
      },
      "source": [
        "acc_train = pred_train.filter(pred_train.target == pred_train.prediction).count() / float(pred_train.count())\n",
        "acc_test = pred_test.filter(pred_test.target == pred_test.prediction).count() / float(pred_test.count())\n",
        "print(f'Точность (accuracy) модели на трейне {acc_train}, '\n",
        "      f'на тесте {acc_test}')"
      ],
      "execution_count": 225,
      "outputs": [
        {
          "output_type": "stream",
          "name": "stdout",
          "text": [
            "Точность (accuracy) модели на трейне 0.9168635553368507, на тесте 0.9168868640850417\n"
          ]
        }
      ]
    },
    {
      "cell_type": "code",
      "metadata": {
        "colab": {
          "base_uri": "https://localhost:8080/"
        },
        "id": "lP1lQ97NZc6o",
        "outputId": "8c6ecd16-dcb2-47b1-af1a-a0cb6cb61392"
      },
      "source": [
        "from pyspark.ml.evaluation import BinaryClassificationEvaluator\n",
        "eval = BinaryClassificationEvaluator(labelCol='target')\n",
        "print(f'ROC_AUC модели на трейне {eval.evaluate(pred_train)}, '\n",
        "      f'на тесте {eval.evaluate(pred_test)}')"
      ],
      "execution_count": 226,
      "outputs": [
        {
          "output_type": "stream",
          "name": "stdout",
          "text": [
            "ROC_AUC модели на трейне 0.5148342987517035, на тесте 0.5145664050204845\n"
          ]
        }
      ]
    },
    {
      "cell_type": "code",
      "metadata": {
        "colab": {
          "base_uri": "https://localhost:8080/"
        },
        "id": "j-RxSylWeEYJ",
        "outputId": "31a7f0f3-c43f-4f68-c179-d6d4119e808a"
      },
      "source": [
        "from pyspark.ml.evaluation import BinaryClassificationEvaluator\n",
        "eval = BinaryClassificationEvaluator(labelCol='target', metricName='areaUnderPR')\n",
        "print(f'areaUnderPR модели на трейне {eval.evaluate(pred_train)}, '\n",
        "      f'на тесте {eval.evaluate(pred_test)}')"
      ],
      "execution_count": 227,
      "outputs": [
        {
          "output_type": "stream",
          "name": "stdout",
          "text": [
            "areaUnderPR модели на трейне 0.08844774840384677, на тесте 0.087170882536079\n"
          ]
        }
      ]
    },
    {
      "cell_type": "code",
      "metadata": {
        "id": "0hd_pXq8b_JV"
      },
      "source": [
        "coef = model.coefficients.toArray()"
      ],
      "execution_count": 228,
      "outputs": []
    },
    {
      "cell_type": "code",
      "metadata": {
        "id": "ozjA2NS2mofp"
      },
      "source": [
        "from itertools import chain\n",
        "\n",
        "attrs = sorted(\n",
        "    (attr[\"idx\"], attr[\"name\"]) for attr in (chain(*data_train_tr\\\n",
        "        .schema['transformed_features']\\\n",
        "        .metadata[\"ml_attr\"][\"attrs\"].values())))\n",
        "coef_map = [(name, coef[idx]) for idx, name in attrs]"
      ],
      "execution_count": 270,
      "outputs": []
    },
    {
      "cell_type": "code",
      "metadata": {
        "colab": {
          "base_uri": "https://localhost:8080/",
          "height": 627
        },
        "id": "G5wYZSDBmojU",
        "outputId": "d5ce0184-a1a4-455e-d2d3-5422bf3a8ca2"
      },
      "source": [
        "pd.Series([i[1] for i in coef_map],\n",
        "    [i[0] for i in coef_map]\n",
        "    ).plot.bar()\n",
        "    "
      ],
      "execution_count": 271,
      "outputs": [
        {
          "output_type": "execute_result",
          "data": {
            "text/plain": [
              "<matplotlib.axes._subplots.AxesSubplot at 0x7fc3cc083790>"
            ]
          },
          "metadata": {},
          "execution_count": 271
        },
        {
          "output_type": "display_data",
          "data": {
            "text/plain": [
              "<Figure size 432x288 with 1 Axes>"
            ],
            "image/svg+xml": "<?xml version=\"1.0\" encoding=\"utf-8\" standalone=\"no\"?>\n<!DOCTYPE svg PUBLIC \"-//W3C//DTD SVG 1.1//EN\"\n  \"http://www.w3.org/Graphics/SVG/1.1/DTD/svg11.dtd\">\n<!-- Created with matplotlib (https://matplotlib.org/) -->\n<svg height=\"441.5525pt\" version=\"1.1\" viewBox=\"0 0 380.482812 441.5525\" width=\"380.482812pt\" xmlns=\"http://www.w3.org/2000/svg\" xmlns:xlink=\"http://www.w3.org/1999/xlink\">\n <defs>\n  <style type=\"text/css\">\n*{stroke-linecap:butt;stroke-linejoin:round;}\n  </style>\n </defs>\n <g id=\"figure_1\">\n  <g id=\"patch_1\">\n   <path d=\"M -0 441.5525 \nL 380.482812 441.5525 \nL 380.482812 0 \nL -0 0 \nz\n\" style=\"fill:none;\"/>\n  </g>\n  <g id=\"axes_1\">\n   <g id=\"patch_2\">\n    <path d=\"M 38.482813 224.64 \nL 373.282813 224.64 \nL 373.282813 7.2 \nL 38.482813 7.2 \nz\n\" style=\"fill:#ffffff;\"/>\n   </g>\n   <g id=\"patch_3\">\n    <path clip-path=\"url(#p2ce508596c)\" d=\"M 48.945313 28.324625 \nL 69.870313 28.324625 \nL 69.870313 25.870698 \nL 48.945313 25.870698 \nz\n\" style=\"fill:#1f77b4;\"/>\n   </g>\n   <g id=\"patch_4\">\n    <path clip-path=\"url(#p2ce508596c)\" d=\"M 90.795313 28.324625 \nL 111.720313 28.324625 \nL 111.720313 25.548981 \nL 90.795313 25.548981 \nz\n\" style=\"fill:#1f77b4;\"/>\n   </g>\n   <g id=\"patch_5\">\n    <path clip-path=\"url(#p2ce508596c)\" d=\"M 132.645312 28.324625 \nL 153.570312 28.324625 \nL 153.570312 30.123657 \nL 132.645312 30.123657 \nz\n\" style=\"fill:#1f77b4;\"/>\n   </g>\n   <g id=\"patch_6\">\n    <path clip-path=\"url(#p2ce508596c)\" d=\"M 174.495313 28.324625 \nL 195.420313 28.324625 \nL 195.420313 21.588678 \nL 174.495313 21.588678 \nz\n\" style=\"fill:#1f77b4;\"/>\n   </g>\n   <g id=\"patch_7\">\n    <path clip-path=\"url(#p2ce508596c)\" d=\"M 216.345313 28.324625 \nL 237.270313 28.324625 \nL 237.270313 34.138815 \nL 216.345313 34.138815 \nz\n\" style=\"fill:#1f77b4;\"/>\n   </g>\n   <g id=\"patch_8\">\n    <path clip-path=\"url(#p2ce508596c)\" d=\"M 258.195312 28.324625 \nL 279.120313 28.324625 \nL 279.120313 17.083636 \nL 258.195312 17.083636 \nz\n\" style=\"fill:#1f77b4;\"/>\n   </g>\n   <g id=\"patch_9\">\n    <path clip-path=\"url(#p2ce508596c)\" d=\"M 300.045313 28.324625 \nL 320.970313 28.324625 \nL 320.970313 214.756364 \nL 300.045313 214.756364 \nz\n\" style=\"fill:#1f77b4;\"/>\n   </g>\n   <g id=\"patch_10\">\n    <path clip-path=\"url(#p2ce508596c)\" d=\"M 341.895313 28.324625 \nL 362.820313 28.324625 \nL 362.820313 38.417836 \nL 341.895313 38.417836 \nz\n\" style=\"fill:#1f77b4;\"/>\n   </g>\n   <g id=\"matplotlib.axis_1\">\n    <g id=\"xtick_1\">\n     <g id=\"line2d_1\">\n      <defs>\n       <path d=\"M 0 0 \nL 0 3.5 \n\" id=\"me98ddb0d27\" style=\"stroke:#000000;stroke-width:0.8;\"/>\n      </defs>\n      <g>\n       <use style=\"stroke:#000000;stroke-width:0.8;\" x=\"59.407813\" xlink:href=\"#me98ddb0d27\" y=\"224.64\"/>\n      </g>\n     </g>\n     <g id=\"text_1\">\n      <!-- CODE_GENDER_indexed_encoded_F -->\n      <defs>\n       <path d=\"M 64.40625 67.28125 \nL 64.40625 56.890625 \nQ 59.421875 61.53125 53.78125 63.8125 \nQ 48.140625 66.109375 41.796875 66.109375 \nQ 29.296875 66.109375 22.65625 58.46875 \nQ 16.015625 50.828125 16.015625 36.375 \nQ 16.015625 21.96875 22.65625 14.328125 \nQ 29.296875 6.6875 41.796875 6.6875 \nQ 48.140625 6.6875 53.78125 8.984375 \nQ 59.421875 11.28125 64.40625 15.921875 \nL 64.40625 5.609375 \nQ 59.234375 2.09375 53.4375 0.328125 \nQ 47.65625 -1.421875 41.21875 -1.421875 \nQ 24.65625 -1.421875 15.125 8.703125 \nQ 5.609375 18.84375 5.609375 36.375 \nQ 5.609375 53.953125 15.125 64.078125 \nQ 24.65625 74.21875 41.21875 74.21875 \nQ 47.75 74.21875 53.53125 72.484375 \nQ 59.328125 70.75 64.40625 67.28125 \nz\n\" id=\"DejaVuSans-67\"/>\n       <path d=\"M 39.40625 66.21875 \nQ 28.65625 66.21875 22.328125 58.203125 \nQ 16.015625 50.203125 16.015625 36.375 \nQ 16.015625 22.609375 22.328125 14.59375 \nQ 28.65625 6.59375 39.40625 6.59375 \nQ 50.140625 6.59375 56.421875 14.59375 \nQ 62.703125 22.609375 62.703125 36.375 \nQ 62.703125 50.203125 56.421875 58.203125 \nQ 50.140625 66.21875 39.40625 66.21875 \nz\nM 39.40625 74.21875 \nQ 54.734375 74.21875 63.90625 63.9375 \nQ 73.09375 53.65625 73.09375 36.375 \nQ 73.09375 19.140625 63.90625 8.859375 \nQ 54.734375 -1.421875 39.40625 -1.421875 \nQ 24.03125 -1.421875 14.8125 8.828125 \nQ 5.609375 19.09375 5.609375 36.375 \nQ 5.609375 53.65625 14.8125 63.9375 \nQ 24.03125 74.21875 39.40625 74.21875 \nz\n\" id=\"DejaVuSans-79\"/>\n       <path d=\"M 19.671875 64.796875 \nL 19.671875 8.109375 \nL 31.59375 8.109375 \nQ 46.6875 8.109375 53.6875 14.9375 \nQ 60.6875 21.78125 60.6875 36.53125 \nQ 60.6875 51.171875 53.6875 57.984375 \nQ 46.6875 64.796875 31.59375 64.796875 \nz\nM 9.8125 72.90625 \nL 30.078125 72.90625 \nQ 51.265625 72.90625 61.171875 64.09375 \nQ 71.09375 55.28125 71.09375 36.53125 \nQ 71.09375 17.671875 61.125 8.828125 \nQ 51.171875 0 30.078125 0 \nL 9.8125 0 \nz\n\" id=\"DejaVuSans-68\"/>\n       <path d=\"M 9.8125 72.90625 \nL 55.90625 72.90625 \nL 55.90625 64.59375 \nL 19.671875 64.59375 \nL 19.671875 43.015625 \nL 54.390625 43.015625 \nL 54.390625 34.71875 \nL 19.671875 34.71875 \nL 19.671875 8.296875 \nL 56.78125 8.296875 \nL 56.78125 0 \nL 9.8125 0 \nz\n\" id=\"DejaVuSans-69\"/>\n       <path d=\"M 50.984375 -16.609375 \nL 50.984375 -23.578125 \nL -0.984375 -23.578125 \nL -0.984375 -16.609375 \nz\n\" id=\"DejaVuSans-95\"/>\n       <path d=\"M 59.515625 10.40625 \nL 59.515625 29.984375 \nL 43.40625 29.984375 \nL 43.40625 38.09375 \nL 69.28125 38.09375 \nL 69.28125 6.78125 \nQ 63.578125 2.734375 56.6875 0.65625 \nQ 49.8125 -1.421875 42 -1.421875 \nQ 24.90625 -1.421875 15.25 8.5625 \nQ 5.609375 18.5625 5.609375 36.375 \nQ 5.609375 54.25 15.25 64.234375 \nQ 24.90625 74.21875 42 74.21875 \nQ 49.125 74.21875 55.546875 72.453125 \nQ 61.96875 70.703125 67.390625 67.28125 \nL 67.390625 56.78125 \nQ 61.921875 61.421875 55.765625 63.765625 \nQ 49.609375 66.109375 42.828125 66.109375 \nQ 29.4375 66.109375 22.71875 58.640625 \nQ 16.015625 51.171875 16.015625 36.375 \nQ 16.015625 21.625 22.71875 14.15625 \nQ 29.4375 6.6875 42.828125 6.6875 \nQ 48.046875 6.6875 52.140625 7.59375 \nQ 56.25 8.5 59.515625 10.40625 \nz\n\" id=\"DejaVuSans-71\"/>\n       <path d=\"M 9.8125 72.90625 \nL 23.09375 72.90625 \nL 55.421875 11.921875 \nL 55.421875 72.90625 \nL 64.984375 72.90625 \nL 64.984375 0 \nL 51.703125 0 \nL 19.390625 60.984375 \nL 19.390625 0 \nL 9.8125 0 \nz\n\" id=\"DejaVuSans-78\"/>\n       <path d=\"M 44.390625 34.1875 \nQ 47.5625 33.109375 50.5625 29.59375 \nQ 53.5625 26.078125 56.59375 19.921875 \nL 66.609375 0 \nL 56 0 \nL 46.6875 18.703125 \nQ 43.0625 26.03125 39.671875 28.421875 \nQ 36.28125 30.8125 30.421875 30.8125 \nL 19.671875 30.8125 \nL 19.671875 0 \nL 9.8125 0 \nL 9.8125 72.90625 \nL 32.078125 72.90625 \nQ 44.578125 72.90625 50.734375 67.671875 \nQ 56.890625 62.453125 56.890625 51.90625 \nQ 56.890625 45.015625 53.6875 40.46875 \nQ 50.484375 35.9375 44.390625 34.1875 \nz\nM 19.671875 64.796875 \nL 19.671875 38.921875 \nL 32.078125 38.921875 \nQ 39.203125 38.921875 42.84375 42.21875 \nQ 46.484375 45.515625 46.484375 51.90625 \nQ 46.484375 58.296875 42.84375 61.546875 \nQ 39.203125 64.796875 32.078125 64.796875 \nz\n\" id=\"DejaVuSans-82\"/>\n       <path d=\"M 9.421875 54.6875 \nL 18.40625 54.6875 \nL 18.40625 0 \nL 9.421875 0 \nz\nM 9.421875 75.984375 \nL 18.40625 75.984375 \nL 18.40625 64.59375 \nL 9.421875 64.59375 \nz\n\" id=\"DejaVuSans-105\"/>\n       <path d=\"M 54.890625 33.015625 \nL 54.890625 0 \nL 45.90625 0 \nL 45.90625 32.71875 \nQ 45.90625 40.484375 42.875 44.328125 \nQ 39.84375 48.1875 33.796875 48.1875 \nQ 26.515625 48.1875 22.3125 43.546875 \nQ 18.109375 38.921875 18.109375 30.90625 \nL 18.109375 0 \nL 9.078125 0 \nL 9.078125 54.6875 \nL 18.109375 54.6875 \nL 18.109375 46.1875 \nQ 21.34375 51.125 25.703125 53.5625 \nQ 30.078125 56 35.796875 56 \nQ 45.21875 56 50.046875 50.171875 \nQ 54.890625 44.34375 54.890625 33.015625 \nz\n\" id=\"DejaVuSans-110\"/>\n       <path d=\"M 45.40625 46.390625 \nL 45.40625 75.984375 \nL 54.390625 75.984375 \nL 54.390625 0 \nL 45.40625 0 \nL 45.40625 8.203125 \nQ 42.578125 3.328125 38.25 0.953125 \nQ 33.9375 -1.421875 27.875 -1.421875 \nQ 17.96875 -1.421875 11.734375 6.484375 \nQ 5.515625 14.40625 5.515625 27.296875 \nQ 5.515625 40.1875 11.734375 48.09375 \nQ 17.96875 56 27.875 56 \nQ 33.9375 56 38.25 53.625 \nQ 42.578125 51.265625 45.40625 46.390625 \nz\nM 14.796875 27.296875 \nQ 14.796875 17.390625 18.875 11.75 \nQ 22.953125 6.109375 30.078125 6.109375 \nQ 37.203125 6.109375 41.296875 11.75 \nQ 45.40625 17.390625 45.40625 27.296875 \nQ 45.40625 37.203125 41.296875 42.84375 \nQ 37.203125 48.484375 30.078125 48.484375 \nQ 22.953125 48.484375 18.875 42.84375 \nQ 14.796875 37.203125 14.796875 27.296875 \nz\n\" id=\"DejaVuSans-100\"/>\n       <path d=\"M 56.203125 29.59375 \nL 56.203125 25.203125 \nL 14.890625 25.203125 \nQ 15.484375 15.921875 20.484375 11.0625 \nQ 25.484375 6.203125 34.421875 6.203125 \nQ 39.59375 6.203125 44.453125 7.46875 \nQ 49.3125 8.734375 54.109375 11.28125 \nL 54.109375 2.78125 \nQ 49.265625 0.734375 44.1875 -0.34375 \nQ 39.109375 -1.421875 33.890625 -1.421875 \nQ 20.796875 -1.421875 13.15625 6.1875 \nQ 5.515625 13.8125 5.515625 26.8125 \nQ 5.515625 40.234375 12.765625 48.109375 \nQ 20.015625 56 32.328125 56 \nQ 43.359375 56 49.78125 48.890625 \nQ 56.203125 41.796875 56.203125 29.59375 \nz\nM 47.21875 32.234375 \nQ 47.125 39.59375 43.09375 43.984375 \nQ 39.0625 48.390625 32.421875 48.390625 \nQ 24.90625 48.390625 20.390625 44.140625 \nQ 15.875 39.890625 15.1875 32.171875 \nz\n\" id=\"DejaVuSans-101\"/>\n       <path d=\"M 54.890625 54.6875 \nL 35.109375 28.078125 \nL 55.90625 0 \nL 45.3125 0 \nL 29.390625 21.484375 \nL 13.484375 0 \nL 2.875 0 \nL 24.125 28.609375 \nL 4.6875 54.6875 \nL 15.28125 54.6875 \nL 29.78125 35.203125 \nL 44.28125 54.6875 \nz\n\" id=\"DejaVuSans-120\"/>\n       <path d=\"M 48.78125 52.59375 \nL 48.78125 44.1875 \nQ 44.96875 46.296875 41.140625 47.34375 \nQ 37.3125 48.390625 33.40625 48.390625 \nQ 24.65625 48.390625 19.8125 42.84375 \nQ 14.984375 37.3125 14.984375 27.296875 \nQ 14.984375 17.28125 19.8125 11.734375 \nQ 24.65625 6.203125 33.40625 6.203125 \nQ 37.3125 6.203125 41.140625 7.25 \nQ 44.96875 8.296875 48.78125 10.40625 \nL 48.78125 2.09375 \nQ 45.015625 0.34375 40.984375 -0.53125 \nQ 36.96875 -1.421875 32.421875 -1.421875 \nQ 20.0625 -1.421875 12.78125 6.34375 \nQ 5.515625 14.109375 5.515625 27.296875 \nQ 5.515625 40.671875 12.859375 48.328125 \nQ 20.21875 56 33.015625 56 \nQ 37.15625 56 41.109375 55.140625 \nQ 45.0625 54.296875 48.78125 52.59375 \nz\n\" id=\"DejaVuSans-99\"/>\n       <path d=\"M 30.609375 48.390625 \nQ 23.390625 48.390625 19.1875 42.75 \nQ 14.984375 37.109375 14.984375 27.296875 \nQ 14.984375 17.484375 19.15625 11.84375 \nQ 23.34375 6.203125 30.609375 6.203125 \nQ 37.796875 6.203125 41.984375 11.859375 \nQ 46.1875 17.53125 46.1875 27.296875 \nQ 46.1875 37.015625 41.984375 42.703125 \nQ 37.796875 48.390625 30.609375 48.390625 \nz\nM 30.609375 56 \nQ 42.328125 56 49.015625 48.375 \nQ 55.71875 40.765625 55.71875 27.296875 \nQ 55.71875 13.875 49.015625 6.21875 \nQ 42.328125 -1.421875 30.609375 -1.421875 \nQ 18.84375 -1.421875 12.171875 6.21875 \nQ 5.515625 13.875 5.515625 27.296875 \nQ 5.515625 40.765625 12.171875 48.375 \nQ 18.84375 56 30.609375 56 \nz\n\" id=\"DejaVuSans-111\"/>\n       <path d=\"M 9.8125 72.90625 \nL 51.703125 72.90625 \nL 51.703125 64.59375 \nL 19.671875 64.59375 \nL 19.671875 43.109375 \nL 48.578125 43.109375 \nL 48.578125 34.8125 \nL 19.671875 34.8125 \nL 19.671875 0 \nL 9.8125 0 \nz\n\" id=\"DejaVuSans-70\"/>\n      </defs>\n      <g transform=\"translate(62.028125 411.288437)rotate(-90)scale(0.1 -0.1)\">\n       <use xlink:href=\"#DejaVuSans-67\"/>\n       <use x=\"69.824219\" xlink:href=\"#DejaVuSans-79\"/>\n       <use x=\"148.535156\" xlink:href=\"#DejaVuSans-68\"/>\n       <use x=\"225.537109\" xlink:href=\"#DejaVuSans-69\"/>\n       <use x=\"288.720703\" xlink:href=\"#DejaVuSans-95\"/>\n       <use x=\"338.720703\" xlink:href=\"#DejaVuSans-71\"/>\n       <use x=\"416.210938\" xlink:href=\"#DejaVuSans-69\"/>\n       <use x=\"479.394531\" xlink:href=\"#DejaVuSans-78\"/>\n       <use x=\"554.199219\" xlink:href=\"#DejaVuSans-68\"/>\n       <use x=\"631.201172\" xlink:href=\"#DejaVuSans-69\"/>\n       <use x=\"694.384766\" xlink:href=\"#DejaVuSans-82\"/>\n       <use x=\"763.867188\" xlink:href=\"#DejaVuSans-95\"/>\n       <use x=\"813.867188\" xlink:href=\"#DejaVuSans-105\"/>\n       <use x=\"841.650391\" xlink:href=\"#DejaVuSans-110\"/>\n       <use x=\"905.029297\" xlink:href=\"#DejaVuSans-100\"/>\n       <use x=\"968.505859\" xlink:href=\"#DejaVuSans-101\"/>\n       <use x=\"1028.279297\" xlink:href=\"#DejaVuSans-120\"/>\n       <use x=\"1084.333984\" xlink:href=\"#DejaVuSans-101\"/>\n       <use x=\"1145.857422\" xlink:href=\"#DejaVuSans-100\"/>\n       <use x=\"1209.333984\" xlink:href=\"#DejaVuSans-95\"/>\n       <use x=\"1259.333984\" xlink:href=\"#DejaVuSans-101\"/>\n       <use x=\"1320.857422\" xlink:href=\"#DejaVuSans-110\"/>\n       <use x=\"1384.236328\" xlink:href=\"#DejaVuSans-99\"/>\n       <use x=\"1439.216797\" xlink:href=\"#DejaVuSans-111\"/>\n       <use x=\"1500.398438\" xlink:href=\"#DejaVuSans-100\"/>\n       <use x=\"1563.875\" xlink:href=\"#DejaVuSans-101\"/>\n       <use x=\"1625.398438\" xlink:href=\"#DejaVuSans-100\"/>\n       <use x=\"1688.875\" xlink:href=\"#DejaVuSans-95\"/>\n       <use x=\"1738.875\" xlink:href=\"#DejaVuSans-70\"/>\n      </g>\n     </g>\n    </g>\n    <g id=\"xtick_2\">\n     <g id=\"line2d_2\">\n      <g>\n       <use style=\"stroke:#000000;stroke-width:0.8;\" x=\"101.257812\" xlink:href=\"#me98ddb0d27\" y=\"224.64\"/>\n      </g>\n     </g>\n     <g id=\"text_2\">\n      <!-- CODE_GENDER_indexed_encoded_M -->\n      <defs>\n       <path d=\"M 9.8125 72.90625 \nL 24.515625 72.90625 \nL 43.109375 23.296875 \nL 61.8125 72.90625 \nL 76.515625 72.90625 \nL 76.515625 0 \nL 66.890625 0 \nL 66.890625 64.015625 \nL 48.09375 14.015625 \nL 38.1875 14.015625 \nL 19.390625 64.015625 \nL 19.390625 0 \nL 9.8125 0 \nz\n\" id=\"DejaVuSans-77\"/>\n      </defs>\n      <g transform=\"translate(103.878125 414.165)rotate(-90)scale(0.1 -0.1)\">\n       <use xlink:href=\"#DejaVuSans-67\"/>\n       <use x=\"69.824219\" xlink:href=\"#DejaVuSans-79\"/>\n       <use x=\"148.535156\" xlink:href=\"#DejaVuSans-68\"/>\n       <use x=\"225.537109\" xlink:href=\"#DejaVuSans-69\"/>\n       <use x=\"288.720703\" xlink:href=\"#DejaVuSans-95\"/>\n       <use x=\"338.720703\" xlink:href=\"#DejaVuSans-71\"/>\n       <use x=\"416.210938\" xlink:href=\"#DejaVuSans-69\"/>\n       <use x=\"479.394531\" xlink:href=\"#DejaVuSans-78\"/>\n       <use x=\"554.199219\" xlink:href=\"#DejaVuSans-68\"/>\n       <use x=\"631.201172\" xlink:href=\"#DejaVuSans-69\"/>\n       <use x=\"694.384766\" xlink:href=\"#DejaVuSans-82\"/>\n       <use x=\"763.867188\" xlink:href=\"#DejaVuSans-95\"/>\n       <use x=\"813.867188\" xlink:href=\"#DejaVuSans-105\"/>\n       <use x=\"841.650391\" xlink:href=\"#DejaVuSans-110\"/>\n       <use x=\"905.029297\" xlink:href=\"#DejaVuSans-100\"/>\n       <use x=\"968.505859\" xlink:href=\"#DejaVuSans-101\"/>\n       <use x=\"1028.279297\" xlink:href=\"#DejaVuSans-120\"/>\n       <use x=\"1084.333984\" xlink:href=\"#DejaVuSans-101\"/>\n       <use x=\"1145.857422\" xlink:href=\"#DejaVuSans-100\"/>\n       <use x=\"1209.333984\" xlink:href=\"#DejaVuSans-95\"/>\n       <use x=\"1259.333984\" xlink:href=\"#DejaVuSans-101\"/>\n       <use x=\"1320.857422\" xlink:href=\"#DejaVuSans-110\"/>\n       <use x=\"1384.236328\" xlink:href=\"#DejaVuSans-99\"/>\n       <use x=\"1439.216797\" xlink:href=\"#DejaVuSans-111\"/>\n       <use x=\"1500.398438\" xlink:href=\"#DejaVuSans-100\"/>\n       <use x=\"1563.875\" xlink:href=\"#DejaVuSans-101\"/>\n       <use x=\"1625.398438\" xlink:href=\"#DejaVuSans-100\"/>\n       <use x=\"1688.875\" xlink:href=\"#DejaVuSans-95\"/>\n       <use x=\"1738.875\" xlink:href=\"#DejaVuSans-77\"/>\n      </g>\n     </g>\n    </g>\n    <g id=\"xtick_3\">\n     <g id=\"line2d_3\">\n      <g>\n       <use style=\"stroke:#000000;stroke-width:0.8;\" x=\"143.107813\" xlink:href=\"#me98ddb0d27\" y=\"224.64\"/>\n      </g>\n     </g>\n     <g id=\"text_3\">\n      <!-- FLAG_OWN_CAR_indexed_encoded_N -->\n      <defs>\n       <path d=\"M 9.8125 72.90625 \nL 19.671875 72.90625 \nL 19.671875 8.296875 \nL 55.171875 8.296875 \nL 55.171875 0 \nL 9.8125 0 \nz\n\" id=\"DejaVuSans-76\"/>\n       <path d=\"M 34.1875 63.1875 \nL 20.796875 26.90625 \nL 47.609375 26.90625 \nz\nM 28.609375 72.90625 \nL 39.796875 72.90625 \nL 67.578125 0 \nL 57.328125 0 \nL 50.6875 18.703125 \nL 17.828125 18.703125 \nL 11.1875 0 \nL 0.78125 0 \nz\n\" id=\"DejaVuSans-65\"/>\n       <path d=\"M 3.328125 72.90625 \nL 13.28125 72.90625 \nL 28.609375 11.28125 \nL 43.890625 72.90625 \nL 54.984375 72.90625 \nL 70.3125 11.28125 \nL 85.59375 72.90625 \nL 95.609375 72.90625 \nL 77.296875 0 \nL 64.890625 0 \nL 49.515625 63.28125 \nL 33.984375 0 \nL 21.578125 0 \nz\n\" id=\"DejaVuSans-87\"/>\n      </defs>\n      <g transform=\"translate(145.728125 418.604062)rotate(-90)scale(0.1 -0.1)\">\n       <use xlink:href=\"#DejaVuSans-70\"/>\n       <use x=\"57.519531\" xlink:href=\"#DejaVuSans-76\"/>\n       <use x=\"115.482422\" xlink:href=\"#DejaVuSans-65\"/>\n       <use x=\"182.140625\" xlink:href=\"#DejaVuSans-71\"/>\n       <use x=\"259.630859\" xlink:href=\"#DejaVuSans-95\"/>\n       <use x=\"309.630859\" xlink:href=\"#DejaVuSans-79\"/>\n       <use x=\"388.341797\" xlink:href=\"#DejaVuSans-87\"/>\n       <use x=\"487.21875\" xlink:href=\"#DejaVuSans-78\"/>\n       <use x=\"562.023438\" xlink:href=\"#DejaVuSans-95\"/>\n       <use x=\"612.023438\" xlink:href=\"#DejaVuSans-67\"/>\n       <use x=\"681.847656\" xlink:href=\"#DejaVuSans-65\"/>\n       <use x=\"750.255859\" xlink:href=\"#DejaVuSans-82\"/>\n       <use x=\"819.738281\" xlink:href=\"#DejaVuSans-95\"/>\n       <use x=\"869.738281\" xlink:href=\"#DejaVuSans-105\"/>\n       <use x=\"897.521484\" xlink:href=\"#DejaVuSans-110\"/>\n       <use x=\"960.900391\" xlink:href=\"#DejaVuSans-100\"/>\n       <use x=\"1024.376953\" xlink:href=\"#DejaVuSans-101\"/>\n       <use x=\"1084.150391\" xlink:href=\"#DejaVuSans-120\"/>\n       <use x=\"1140.205078\" xlink:href=\"#DejaVuSans-101\"/>\n       <use x=\"1201.728516\" xlink:href=\"#DejaVuSans-100\"/>\n       <use x=\"1265.205078\" xlink:href=\"#DejaVuSans-95\"/>\n       <use x=\"1315.205078\" xlink:href=\"#DejaVuSans-101\"/>\n       <use x=\"1376.728516\" xlink:href=\"#DejaVuSans-110\"/>\n       <use x=\"1440.107422\" xlink:href=\"#DejaVuSans-99\"/>\n       <use x=\"1495.087891\" xlink:href=\"#DejaVuSans-111\"/>\n       <use x=\"1556.269531\" xlink:href=\"#DejaVuSans-100\"/>\n       <use x=\"1619.746094\" xlink:href=\"#DejaVuSans-101\"/>\n       <use x=\"1681.269531\" xlink:href=\"#DejaVuSans-100\"/>\n       <use x=\"1744.746094\" xlink:href=\"#DejaVuSans-95\"/>\n       <use x=\"1794.746094\" xlink:href=\"#DejaVuSans-78\"/>\n      </g>\n     </g>\n    </g>\n    <g id=\"xtick_4\">\n     <g id=\"line2d_4\">\n      <g>\n       <use style=\"stroke:#000000;stroke-width:0.8;\" x=\"184.957813\" xlink:href=\"#me98ddb0d27\" y=\"224.64\"/>\n      </g>\n     </g>\n     <g id=\"text_4\">\n      <!-- FLAG_OWN_CAR_indexed_encoded_Y -->\n      <defs>\n       <path d=\"M -0.203125 72.90625 \nL 10.40625 72.90625 \nL 30.609375 42.921875 \nL 50.6875 72.90625 \nL 61.28125 72.90625 \nL 35.5 34.71875 \nL 35.5 0 \nL 25.59375 0 \nL 25.59375 34.71875 \nz\n\" id=\"DejaVuSans-89\"/>\n      </defs>\n      <g transform=\"translate(187.578125 417.230625)rotate(-90)scale(0.1 -0.1)\">\n       <use xlink:href=\"#DejaVuSans-70\"/>\n       <use x=\"57.519531\" xlink:href=\"#DejaVuSans-76\"/>\n       <use x=\"115.482422\" xlink:href=\"#DejaVuSans-65\"/>\n       <use x=\"182.140625\" xlink:href=\"#DejaVuSans-71\"/>\n       <use x=\"259.630859\" xlink:href=\"#DejaVuSans-95\"/>\n       <use x=\"309.630859\" xlink:href=\"#DejaVuSans-79\"/>\n       <use x=\"388.341797\" xlink:href=\"#DejaVuSans-87\"/>\n       <use x=\"487.21875\" xlink:href=\"#DejaVuSans-78\"/>\n       <use x=\"562.023438\" xlink:href=\"#DejaVuSans-95\"/>\n       <use x=\"612.023438\" xlink:href=\"#DejaVuSans-67\"/>\n       <use x=\"681.847656\" xlink:href=\"#DejaVuSans-65\"/>\n       <use x=\"750.255859\" xlink:href=\"#DejaVuSans-82\"/>\n       <use x=\"819.738281\" xlink:href=\"#DejaVuSans-95\"/>\n       <use x=\"869.738281\" xlink:href=\"#DejaVuSans-105\"/>\n       <use x=\"897.521484\" xlink:href=\"#DejaVuSans-110\"/>\n       <use x=\"960.900391\" xlink:href=\"#DejaVuSans-100\"/>\n       <use x=\"1024.376953\" xlink:href=\"#DejaVuSans-101\"/>\n       <use x=\"1084.150391\" xlink:href=\"#DejaVuSans-120\"/>\n       <use x=\"1140.205078\" xlink:href=\"#DejaVuSans-101\"/>\n       <use x=\"1201.728516\" xlink:href=\"#DejaVuSans-100\"/>\n       <use x=\"1265.205078\" xlink:href=\"#DejaVuSans-95\"/>\n       <use x=\"1315.205078\" xlink:href=\"#DejaVuSans-101\"/>\n       <use x=\"1376.728516\" xlink:href=\"#DejaVuSans-110\"/>\n       <use x=\"1440.107422\" xlink:href=\"#DejaVuSans-99\"/>\n       <use x=\"1495.087891\" xlink:href=\"#DejaVuSans-111\"/>\n       <use x=\"1556.269531\" xlink:href=\"#DejaVuSans-100\"/>\n       <use x=\"1619.746094\" xlink:href=\"#DejaVuSans-101\"/>\n       <use x=\"1681.269531\" xlink:href=\"#DejaVuSans-100\"/>\n       <use x=\"1744.746094\" xlink:href=\"#DejaVuSans-95\"/>\n       <use x=\"1794.746094\" xlink:href=\"#DejaVuSans-89\"/>\n      </g>\n     </g>\n    </g>\n    <g id=\"xtick_5\">\n     <g id=\"line2d_5\">\n      <g>\n       <use style=\"stroke:#000000;stroke-width:0.8;\" x=\"226.807813\" xlink:href=\"#me98ddb0d27\" y=\"224.64\"/>\n      </g>\n     </g>\n     <g id=\"text_5\">\n      <!-- FLAG_OWN_REALTY_indexed_encoded_Y -->\n      <defs>\n       <path d=\"M -0.296875 72.90625 \nL 61.375 72.90625 \nL 61.375 64.59375 \nL 35.5 64.59375 \nL 35.5 0 \nL 25.59375 0 \nL 25.59375 64.59375 \nL -0.296875 64.59375 \nz\n\" id=\"DejaVuSans-84\"/>\n      </defs>\n      <g transform=\"translate(229.428125 432.979062)rotate(-90)scale(0.1 -0.1)\">\n       <use xlink:href=\"#DejaVuSans-70\"/>\n       <use x=\"57.519531\" xlink:href=\"#DejaVuSans-76\"/>\n       <use x=\"115.482422\" xlink:href=\"#DejaVuSans-65\"/>\n       <use x=\"182.140625\" xlink:href=\"#DejaVuSans-71\"/>\n       <use x=\"259.630859\" xlink:href=\"#DejaVuSans-95\"/>\n       <use x=\"309.630859\" xlink:href=\"#DejaVuSans-79\"/>\n       <use x=\"388.341797\" xlink:href=\"#DejaVuSans-87\"/>\n       <use x=\"487.21875\" xlink:href=\"#DejaVuSans-78\"/>\n       <use x=\"562.023438\" xlink:href=\"#DejaVuSans-95\"/>\n       <use x=\"612.023438\" xlink:href=\"#DejaVuSans-82\"/>\n       <use x=\"681.505859\" xlink:href=\"#DejaVuSans-69\"/>\n       <use x=\"744.689453\" xlink:href=\"#DejaVuSans-65\"/>\n       <use x=\"813.097656\" xlink:href=\"#DejaVuSans-76\"/>\n       <use x=\"855.060547\" xlink:href=\"#DejaVuSans-84\"/>\n       <use x=\"916.144531\" xlink:href=\"#DejaVuSans-89\"/>\n       <use x=\"977.228516\" xlink:href=\"#DejaVuSans-95\"/>\n       <use x=\"1027.228516\" xlink:href=\"#DejaVuSans-105\"/>\n       <use x=\"1055.011719\" xlink:href=\"#DejaVuSans-110\"/>\n       <use x=\"1118.390625\" xlink:href=\"#DejaVuSans-100\"/>\n       <use x=\"1181.867188\" xlink:href=\"#DejaVuSans-101\"/>\n       <use x=\"1241.640625\" xlink:href=\"#DejaVuSans-120\"/>\n       <use x=\"1297.695312\" xlink:href=\"#DejaVuSans-101\"/>\n       <use x=\"1359.21875\" xlink:href=\"#DejaVuSans-100\"/>\n       <use x=\"1422.695312\" xlink:href=\"#DejaVuSans-95\"/>\n       <use x=\"1472.695312\" xlink:href=\"#DejaVuSans-101\"/>\n       <use x=\"1534.21875\" xlink:href=\"#DejaVuSans-110\"/>\n       <use x=\"1597.597656\" xlink:href=\"#DejaVuSans-99\"/>\n       <use x=\"1652.578125\" xlink:href=\"#DejaVuSans-111\"/>\n       <use x=\"1713.759766\" xlink:href=\"#DejaVuSans-100\"/>\n       <use x=\"1777.236328\" xlink:href=\"#DejaVuSans-101\"/>\n       <use x=\"1838.759766\" xlink:href=\"#DejaVuSans-100\"/>\n       <use x=\"1902.236328\" xlink:href=\"#DejaVuSans-95\"/>\n       <use x=\"1952.236328\" xlink:href=\"#DejaVuSans-89\"/>\n      </g>\n     </g>\n    </g>\n    <g id=\"xtick_6\">\n     <g id=\"line2d_6\">\n      <g>\n       <use style=\"stroke:#000000;stroke-width:0.8;\" x=\"268.657812\" xlink:href=\"#me98ddb0d27\" y=\"224.64\"/>\n      </g>\n     </g>\n     <g id=\"text_6\">\n      <!-- FLAG_OWN_REALTY_indexed_encoded_N -->\n      <g transform=\"translate(271.278125 434.3525)rotate(-90)scale(0.1 -0.1)\">\n       <use xlink:href=\"#DejaVuSans-70\"/>\n       <use x=\"57.519531\" xlink:href=\"#DejaVuSans-76\"/>\n       <use x=\"115.482422\" xlink:href=\"#DejaVuSans-65\"/>\n       <use x=\"182.140625\" xlink:href=\"#DejaVuSans-71\"/>\n       <use x=\"259.630859\" xlink:href=\"#DejaVuSans-95\"/>\n       <use x=\"309.630859\" xlink:href=\"#DejaVuSans-79\"/>\n       <use x=\"388.341797\" xlink:href=\"#DejaVuSans-87\"/>\n       <use x=\"487.21875\" xlink:href=\"#DejaVuSans-78\"/>\n       <use x=\"562.023438\" xlink:href=\"#DejaVuSans-95\"/>\n       <use x=\"612.023438\" xlink:href=\"#DejaVuSans-82\"/>\n       <use x=\"681.505859\" xlink:href=\"#DejaVuSans-69\"/>\n       <use x=\"744.689453\" xlink:href=\"#DejaVuSans-65\"/>\n       <use x=\"813.097656\" xlink:href=\"#DejaVuSans-76\"/>\n       <use x=\"855.060547\" xlink:href=\"#DejaVuSans-84\"/>\n       <use x=\"916.144531\" xlink:href=\"#DejaVuSans-89\"/>\n       <use x=\"977.228516\" xlink:href=\"#DejaVuSans-95\"/>\n       <use x=\"1027.228516\" xlink:href=\"#DejaVuSans-105\"/>\n       <use x=\"1055.011719\" xlink:href=\"#DejaVuSans-110\"/>\n       <use x=\"1118.390625\" xlink:href=\"#DejaVuSans-100\"/>\n       <use x=\"1181.867188\" xlink:href=\"#DejaVuSans-101\"/>\n       <use x=\"1241.640625\" xlink:href=\"#DejaVuSans-120\"/>\n       <use x=\"1297.695312\" xlink:href=\"#DejaVuSans-101\"/>\n       <use x=\"1359.21875\" xlink:href=\"#DejaVuSans-100\"/>\n       <use x=\"1422.695312\" xlink:href=\"#DejaVuSans-95\"/>\n       <use x=\"1472.695312\" xlink:href=\"#DejaVuSans-101\"/>\n       <use x=\"1534.21875\" xlink:href=\"#DejaVuSans-110\"/>\n       <use x=\"1597.597656\" xlink:href=\"#DejaVuSans-99\"/>\n       <use x=\"1652.578125\" xlink:href=\"#DejaVuSans-111\"/>\n       <use x=\"1713.759766\" xlink:href=\"#DejaVuSans-100\"/>\n       <use x=\"1777.236328\" xlink:href=\"#DejaVuSans-101\"/>\n       <use x=\"1838.759766\" xlink:href=\"#DejaVuSans-100\"/>\n       <use x=\"1902.236328\" xlink:href=\"#DejaVuSans-95\"/>\n       <use x=\"1952.236328\" xlink:href=\"#DejaVuSans-78\"/>\n      </g>\n     </g>\n    </g>\n    <g id=\"xtick_7\">\n     <g id=\"line2d_7\">\n      <g>\n       <use style=\"stroke:#000000;stroke-width:0.8;\" x=\"310.507812\" xlink:href=\"#me98ddb0d27\" y=\"224.64\"/>\n      </g>\n     </g>\n     <g id=\"text_7\">\n      <!-- AMT_INCOME_TOTAL_vec_scaled_0 -->\n      <defs>\n       <path d=\"M 9.8125 72.90625 \nL 19.671875 72.90625 \nL 19.671875 0 \nL 9.8125 0 \nz\n\" id=\"DejaVuSans-73\"/>\n       <path d=\"M 2.984375 54.6875 \nL 12.5 54.6875 \nL 29.59375 8.796875 \nL 46.6875 54.6875 \nL 56.203125 54.6875 \nL 35.6875 0 \nL 23.484375 0 \nz\n\" id=\"DejaVuSans-118\"/>\n       <path d=\"M 44.28125 53.078125 \nL 44.28125 44.578125 \nQ 40.484375 46.53125 36.375 47.5 \nQ 32.28125 48.484375 27.875 48.484375 \nQ 21.1875 48.484375 17.84375 46.4375 \nQ 14.5 44.390625 14.5 40.28125 \nQ 14.5 37.15625 16.890625 35.375 \nQ 19.28125 33.59375 26.515625 31.984375 \nL 29.59375 31.296875 \nQ 39.15625 29.25 43.1875 25.515625 \nQ 47.21875 21.78125 47.21875 15.09375 \nQ 47.21875 7.46875 41.1875 3.015625 \nQ 35.15625 -1.421875 24.609375 -1.421875 \nQ 20.21875 -1.421875 15.453125 -0.5625 \nQ 10.6875 0.296875 5.421875 2 \nL 5.421875 11.28125 \nQ 10.40625 8.6875 15.234375 7.390625 \nQ 20.0625 6.109375 24.8125 6.109375 \nQ 31.15625 6.109375 34.5625 8.28125 \nQ 37.984375 10.453125 37.984375 14.40625 \nQ 37.984375 18.0625 35.515625 20.015625 \nQ 33.0625 21.96875 24.703125 23.78125 \nL 21.578125 24.515625 \nQ 13.234375 26.265625 9.515625 29.90625 \nQ 5.8125 33.546875 5.8125 39.890625 \nQ 5.8125 47.609375 11.28125 51.796875 \nQ 16.75 56 26.8125 56 \nQ 31.78125 56 36.171875 55.265625 \nQ 40.578125 54.546875 44.28125 53.078125 \nz\n\" id=\"DejaVuSans-115\"/>\n       <path d=\"M 34.28125 27.484375 \nQ 23.390625 27.484375 19.1875 25 \nQ 14.984375 22.515625 14.984375 16.5 \nQ 14.984375 11.71875 18.140625 8.90625 \nQ 21.296875 6.109375 26.703125 6.109375 \nQ 34.1875 6.109375 38.703125 11.40625 \nQ 43.21875 16.703125 43.21875 25.484375 \nL 43.21875 27.484375 \nz\nM 52.203125 31.203125 \nL 52.203125 0 \nL 43.21875 0 \nL 43.21875 8.296875 \nQ 40.140625 3.328125 35.546875 0.953125 \nQ 30.953125 -1.421875 24.3125 -1.421875 \nQ 15.921875 -1.421875 10.953125 3.296875 \nQ 6 8.015625 6 15.921875 \nQ 6 25.140625 12.171875 29.828125 \nQ 18.359375 34.515625 30.609375 34.515625 \nL 43.21875 34.515625 \nL 43.21875 35.40625 \nQ 43.21875 41.609375 39.140625 45 \nQ 35.0625 48.390625 27.6875 48.390625 \nQ 23 48.390625 18.546875 47.265625 \nQ 14.109375 46.140625 10.015625 43.890625 \nL 10.015625 52.203125 \nQ 14.9375 54.109375 19.578125 55.046875 \nQ 24.21875 56 28.609375 56 \nQ 40.484375 56 46.34375 49.84375 \nQ 52.203125 43.703125 52.203125 31.203125 \nz\n\" id=\"DejaVuSans-97\"/>\n       <path d=\"M 9.421875 75.984375 \nL 18.40625 75.984375 \nL 18.40625 0 \nL 9.421875 0 \nz\n\" id=\"DejaVuSans-108\"/>\n       <path d=\"M 31.78125 66.40625 \nQ 24.171875 66.40625 20.328125 58.90625 \nQ 16.5 51.421875 16.5 36.375 \nQ 16.5 21.390625 20.328125 13.890625 \nQ 24.171875 6.390625 31.78125 6.390625 \nQ 39.453125 6.390625 43.28125 13.890625 \nQ 47.125 21.390625 47.125 36.375 \nQ 47.125 51.421875 43.28125 58.90625 \nQ 39.453125 66.40625 31.78125 66.40625 \nz\nM 31.78125 74.21875 \nQ 44.046875 74.21875 50.515625 64.515625 \nQ 56.984375 54.828125 56.984375 36.375 \nQ 56.984375 17.96875 50.515625 8.265625 \nQ 44.046875 -1.421875 31.78125 -1.421875 \nQ 19.53125 -1.421875 13.0625 8.265625 \nQ 6.59375 17.96875 6.59375 36.375 \nQ 6.59375 54.828125 13.0625 64.515625 \nQ 19.53125 74.21875 31.78125 74.21875 \nz\n\" id=\"DejaVuSans-48\"/>\n      </defs>\n      <g transform=\"translate(313.128125 406.222812)rotate(-90)scale(0.1 -0.1)\">\n       <use xlink:href=\"#DejaVuSans-65\"/>\n       <use x=\"68.408203\" xlink:href=\"#DejaVuSans-77\"/>\n       <use x=\"154.6875\" xlink:href=\"#DejaVuSans-84\"/>\n       <use x=\"215.771484\" xlink:href=\"#DejaVuSans-95\"/>\n       <use x=\"265.771484\" xlink:href=\"#DejaVuSans-73\"/>\n       <use x=\"295.263672\" xlink:href=\"#DejaVuSans-78\"/>\n       <use x=\"370.068359\" xlink:href=\"#DejaVuSans-67\"/>\n       <use x=\"439.892578\" xlink:href=\"#DejaVuSans-79\"/>\n       <use x=\"518.603516\" xlink:href=\"#DejaVuSans-77\"/>\n       <use x=\"604.882812\" xlink:href=\"#DejaVuSans-69\"/>\n       <use x=\"668.066406\" xlink:href=\"#DejaVuSans-95\"/>\n       <use x=\"718.066406\" xlink:href=\"#DejaVuSans-84\"/>\n       <use x=\"779.150391\" xlink:href=\"#DejaVuSans-79\"/>\n       <use x=\"857.861328\" xlink:href=\"#DejaVuSans-84\"/>\n       <use x=\"911.195312\" xlink:href=\"#DejaVuSans-65\"/>\n       <use x=\"979.603516\" xlink:href=\"#DejaVuSans-76\"/>\n       <use x=\"1035.316406\" xlink:href=\"#DejaVuSans-95\"/>\n       <use x=\"1085.316406\" xlink:href=\"#DejaVuSans-118\"/>\n       <use x=\"1144.496094\" xlink:href=\"#DejaVuSans-101\"/>\n       <use x=\"1206.019531\" xlink:href=\"#DejaVuSans-99\"/>\n       <use x=\"1261\" xlink:href=\"#DejaVuSans-95\"/>\n       <use x=\"1311\" xlink:href=\"#DejaVuSans-115\"/>\n       <use x=\"1363.099609\" xlink:href=\"#DejaVuSans-99\"/>\n       <use x=\"1418.080078\" xlink:href=\"#DejaVuSans-97\"/>\n       <use x=\"1479.359375\" xlink:href=\"#DejaVuSans-108\"/>\n       <use x=\"1507.142578\" xlink:href=\"#DejaVuSans-101\"/>\n       <use x=\"1568.666016\" xlink:href=\"#DejaVuSans-100\"/>\n       <use x=\"1632.142578\" xlink:href=\"#DejaVuSans-95\"/>\n       <use x=\"1682.142578\" xlink:href=\"#DejaVuSans-48\"/>\n      </g>\n     </g>\n    </g>\n    <g id=\"xtick_8\">\n     <g id=\"line2d_8\">\n      <g>\n       <use style=\"stroke:#000000;stroke-width:0.8;\" x=\"352.357813\" xlink:href=\"#me98ddb0d27\" y=\"224.64\"/>\n      </g>\n     </g>\n     <g id=\"text_8\">\n      <!-- CNT_CHILDREN_vec_scaled_0 -->\n      <defs>\n       <path d=\"M 9.8125 72.90625 \nL 19.671875 72.90625 \nL 19.671875 43.015625 \nL 55.515625 43.015625 \nL 55.515625 72.90625 \nL 65.375 72.90625 \nL 65.375 0 \nL 55.515625 0 \nL 55.515625 34.71875 \nL 19.671875 34.71875 \nL 19.671875 0 \nL 9.8125 0 \nz\n\" id=\"DejaVuSans-72\"/>\n      </defs>\n      <g transform=\"translate(354.978125 379.73375)rotate(-90)scale(0.1 -0.1)\">\n       <use xlink:href=\"#DejaVuSans-67\"/>\n       <use x=\"69.824219\" xlink:href=\"#DejaVuSans-78\"/>\n       <use x=\"144.628906\" xlink:href=\"#DejaVuSans-84\"/>\n       <use x=\"205.712891\" xlink:href=\"#DejaVuSans-95\"/>\n       <use x=\"255.712891\" xlink:href=\"#DejaVuSans-67\"/>\n       <use x=\"325.537109\" xlink:href=\"#DejaVuSans-72\"/>\n       <use x=\"400.732422\" xlink:href=\"#DejaVuSans-73\"/>\n       <use x=\"430.224609\" xlink:href=\"#DejaVuSans-76\"/>\n       <use x=\"485.9375\" xlink:href=\"#DejaVuSans-68\"/>\n       <use x=\"562.939453\" xlink:href=\"#DejaVuSans-82\"/>\n       <use x=\"632.421875\" xlink:href=\"#DejaVuSans-69\"/>\n       <use x=\"695.605469\" xlink:href=\"#DejaVuSans-78\"/>\n       <use x=\"770.410156\" xlink:href=\"#DejaVuSans-95\"/>\n       <use x=\"820.410156\" xlink:href=\"#DejaVuSans-118\"/>\n       <use x=\"879.589844\" xlink:href=\"#DejaVuSans-101\"/>\n       <use x=\"941.113281\" xlink:href=\"#DejaVuSans-99\"/>\n       <use x=\"996.09375\" xlink:href=\"#DejaVuSans-95\"/>\n       <use x=\"1046.09375\" xlink:href=\"#DejaVuSans-115\"/>\n       <use x=\"1098.193359\" xlink:href=\"#DejaVuSans-99\"/>\n       <use x=\"1153.173828\" xlink:href=\"#DejaVuSans-97\"/>\n       <use x=\"1214.453125\" xlink:href=\"#DejaVuSans-108\"/>\n       <use x=\"1242.236328\" xlink:href=\"#DejaVuSans-101\"/>\n       <use x=\"1303.759766\" xlink:href=\"#DejaVuSans-100\"/>\n       <use x=\"1367.236328\" xlink:href=\"#DejaVuSans-95\"/>\n       <use x=\"1417.236328\" xlink:href=\"#DejaVuSans-48\"/>\n      </g>\n     </g>\n    </g>\n   </g>\n   <g id=\"matplotlib.axis_2\">\n    <g id=\"ytick_1\">\n     <g id=\"line2d_9\">\n      <defs>\n       <path d=\"M 0 0 \nL -3.5 0 \n\" id=\"ma68b1c31e8\" style=\"stroke:#000000;stroke-width:0.8;\"/>\n      </defs>\n      <g>\n       <use style=\"stroke:#000000;stroke-width:0.8;\" x=\"38.482813\" xlink:href=\"#ma68b1c31e8\" y=\"199.042577\"/>\n      </g>\n     </g>\n     <g id=\"text_9\">\n      <!-- −1.0 -->\n      <defs>\n       <path d=\"M 10.59375 35.5 \nL 73.1875 35.5 \nL 73.1875 27.203125 \nL 10.59375 27.203125 \nz\n\" id=\"DejaVuSans-8722\"/>\n       <path d=\"M 12.40625 8.296875 \nL 28.515625 8.296875 \nL 28.515625 63.921875 \nL 10.984375 60.40625 \nL 10.984375 69.390625 \nL 28.421875 72.90625 \nL 38.28125 72.90625 \nL 38.28125 8.296875 \nL 54.390625 8.296875 \nL 54.390625 0 \nL 12.40625 0 \nz\n\" id=\"DejaVuSans-49\"/>\n       <path d=\"M 10.6875 12.40625 \nL 21 12.40625 \nL 21 0 \nL 10.6875 0 \nz\n\" id=\"DejaVuSans-46\"/>\n      </defs>\n      <g transform=\"translate(7.2 202.841796)scale(0.1 -0.1)\">\n       <use xlink:href=\"#DejaVuSans-8722\"/>\n       <use x=\"83.789062\" xlink:href=\"#DejaVuSans-49\"/>\n       <use x=\"147.412109\" xlink:href=\"#DejaVuSans-46\"/>\n       <use x=\"179.199219\" xlink:href=\"#DejaVuSans-48\"/>\n      </g>\n     </g>\n    </g>\n    <g id=\"ytick_2\">\n     <g id=\"line2d_10\">\n      <g>\n       <use style=\"stroke:#000000;stroke-width:0.8;\" x=\"38.482813\" xlink:href=\"#ma68b1c31e8\" y=\"164.898987\"/>\n      </g>\n     </g>\n     <g id=\"text_10\">\n      <!-- −0.8 -->\n      <defs>\n       <path d=\"M 31.78125 34.625 \nQ 24.75 34.625 20.71875 30.859375 \nQ 16.703125 27.09375 16.703125 20.515625 \nQ 16.703125 13.921875 20.71875 10.15625 \nQ 24.75 6.390625 31.78125 6.390625 \nQ 38.8125 6.390625 42.859375 10.171875 \nQ 46.921875 13.96875 46.921875 20.515625 \nQ 46.921875 27.09375 42.890625 30.859375 \nQ 38.875 34.625 31.78125 34.625 \nz\nM 21.921875 38.8125 \nQ 15.578125 40.375 12.03125 44.71875 \nQ 8.5 49.078125 8.5 55.328125 \nQ 8.5 64.0625 14.71875 69.140625 \nQ 20.953125 74.21875 31.78125 74.21875 \nQ 42.671875 74.21875 48.875 69.140625 \nQ 55.078125 64.0625 55.078125 55.328125 \nQ 55.078125 49.078125 51.53125 44.71875 \nQ 48 40.375 41.703125 38.8125 \nQ 48.828125 37.15625 52.796875 32.3125 \nQ 56.78125 27.484375 56.78125 20.515625 \nQ 56.78125 9.90625 50.3125 4.234375 \nQ 43.84375 -1.421875 31.78125 -1.421875 \nQ 19.734375 -1.421875 13.25 4.234375 \nQ 6.78125 9.90625 6.78125 20.515625 \nQ 6.78125 27.484375 10.78125 32.3125 \nQ 14.796875 37.15625 21.921875 38.8125 \nz\nM 18.3125 54.390625 \nQ 18.3125 48.734375 21.84375 45.5625 \nQ 25.390625 42.390625 31.78125 42.390625 \nQ 38.140625 42.390625 41.71875 45.5625 \nQ 45.3125 48.734375 45.3125 54.390625 \nQ 45.3125 60.0625 41.71875 63.234375 \nQ 38.140625 66.40625 31.78125 66.40625 \nQ 25.390625 66.40625 21.84375 63.234375 \nQ 18.3125 60.0625 18.3125 54.390625 \nz\n\" id=\"DejaVuSans-56\"/>\n      </defs>\n      <g transform=\"translate(7.2 168.698206)scale(0.1 -0.1)\">\n       <use xlink:href=\"#DejaVuSans-8722\"/>\n       <use x=\"83.789062\" xlink:href=\"#DejaVuSans-48\"/>\n       <use x=\"147.412109\" xlink:href=\"#DejaVuSans-46\"/>\n       <use x=\"179.199219\" xlink:href=\"#DejaVuSans-56\"/>\n      </g>\n     </g>\n    </g>\n    <g id=\"ytick_3\">\n     <g id=\"line2d_11\">\n      <g>\n       <use style=\"stroke:#000000;stroke-width:0.8;\" x=\"38.482813\" xlink:href=\"#ma68b1c31e8\" y=\"130.755396\"/>\n      </g>\n     </g>\n     <g id=\"text_11\">\n      <!-- −0.6 -->\n      <defs>\n       <path d=\"M 33.015625 40.375 \nQ 26.375 40.375 22.484375 35.828125 \nQ 18.609375 31.296875 18.609375 23.390625 \nQ 18.609375 15.53125 22.484375 10.953125 \nQ 26.375 6.390625 33.015625 6.390625 \nQ 39.65625 6.390625 43.53125 10.953125 \nQ 47.40625 15.53125 47.40625 23.390625 \nQ 47.40625 31.296875 43.53125 35.828125 \nQ 39.65625 40.375 33.015625 40.375 \nz\nM 52.59375 71.296875 \nL 52.59375 62.3125 \nQ 48.875 64.0625 45.09375 64.984375 \nQ 41.3125 65.921875 37.59375 65.921875 \nQ 27.828125 65.921875 22.671875 59.328125 \nQ 17.53125 52.734375 16.796875 39.40625 \nQ 19.671875 43.65625 24.015625 45.921875 \nQ 28.375 48.1875 33.59375 48.1875 \nQ 44.578125 48.1875 50.953125 41.515625 \nQ 57.328125 34.859375 57.328125 23.390625 \nQ 57.328125 12.15625 50.6875 5.359375 \nQ 44.046875 -1.421875 33.015625 -1.421875 \nQ 20.359375 -1.421875 13.671875 8.265625 \nQ 6.984375 17.96875 6.984375 36.375 \nQ 6.984375 53.65625 15.1875 63.9375 \nQ 23.390625 74.21875 37.203125 74.21875 \nQ 40.921875 74.21875 44.703125 73.484375 \nQ 48.484375 72.75 52.59375 71.296875 \nz\n\" id=\"DejaVuSans-54\"/>\n      </defs>\n      <g transform=\"translate(7.2 134.554615)scale(0.1 -0.1)\">\n       <use xlink:href=\"#DejaVuSans-8722\"/>\n       <use x=\"83.789062\" xlink:href=\"#DejaVuSans-48\"/>\n       <use x=\"147.412109\" xlink:href=\"#DejaVuSans-46\"/>\n       <use x=\"179.199219\" xlink:href=\"#DejaVuSans-54\"/>\n      </g>\n     </g>\n    </g>\n    <g id=\"ytick_4\">\n     <g id=\"line2d_12\">\n      <g>\n       <use style=\"stroke:#000000;stroke-width:0.8;\" x=\"38.482813\" xlink:href=\"#ma68b1c31e8\" y=\"96.611806\"/>\n      </g>\n     </g>\n     <g id=\"text_12\">\n      <!-- −0.4 -->\n      <defs>\n       <path d=\"M 37.796875 64.3125 \nL 12.890625 25.390625 \nL 37.796875 25.390625 \nz\nM 35.203125 72.90625 \nL 47.609375 72.90625 \nL 47.609375 25.390625 \nL 58.015625 25.390625 \nL 58.015625 17.1875 \nL 47.609375 17.1875 \nL 47.609375 0 \nL 37.796875 0 \nL 37.796875 17.1875 \nL 4.890625 17.1875 \nL 4.890625 26.703125 \nz\n\" id=\"DejaVuSans-52\"/>\n      </defs>\n      <g transform=\"translate(7.2 100.411025)scale(0.1 -0.1)\">\n       <use xlink:href=\"#DejaVuSans-8722\"/>\n       <use x=\"83.789062\" xlink:href=\"#DejaVuSans-48\"/>\n       <use x=\"147.412109\" xlink:href=\"#DejaVuSans-46\"/>\n       <use x=\"179.199219\" xlink:href=\"#DejaVuSans-52\"/>\n      </g>\n     </g>\n    </g>\n    <g id=\"ytick_5\">\n     <g id=\"line2d_13\">\n      <g>\n       <use style=\"stroke:#000000;stroke-width:0.8;\" x=\"38.482813\" xlink:href=\"#ma68b1c31e8\" y=\"62.468215\"/>\n      </g>\n     </g>\n     <g id=\"text_13\">\n      <!-- −0.2 -->\n      <defs>\n       <path d=\"M 19.1875 8.296875 \nL 53.609375 8.296875 \nL 53.609375 0 \nL 7.328125 0 \nL 7.328125 8.296875 \nQ 12.9375 14.109375 22.625 23.890625 \nQ 32.328125 33.6875 34.8125 36.53125 \nQ 39.546875 41.84375 41.421875 45.53125 \nQ 43.3125 49.21875 43.3125 52.78125 \nQ 43.3125 58.59375 39.234375 62.25 \nQ 35.15625 65.921875 28.609375 65.921875 \nQ 23.96875 65.921875 18.8125 64.3125 \nQ 13.671875 62.703125 7.8125 59.421875 \nL 7.8125 69.390625 \nQ 13.765625 71.78125 18.9375 73 \nQ 24.125 74.21875 28.421875 74.21875 \nQ 39.75 74.21875 46.484375 68.546875 \nQ 53.21875 62.890625 53.21875 53.421875 \nQ 53.21875 48.921875 51.53125 44.890625 \nQ 49.859375 40.875 45.40625 35.40625 \nQ 44.1875 33.984375 37.640625 27.21875 \nQ 31.109375 20.453125 19.1875 8.296875 \nz\n\" id=\"DejaVuSans-50\"/>\n      </defs>\n      <g transform=\"translate(7.2 66.267434)scale(0.1 -0.1)\">\n       <use xlink:href=\"#DejaVuSans-8722\"/>\n       <use x=\"83.789062\" xlink:href=\"#DejaVuSans-48\"/>\n       <use x=\"147.412109\" xlink:href=\"#DejaVuSans-46\"/>\n       <use x=\"179.199219\" xlink:href=\"#DejaVuSans-50\"/>\n      </g>\n     </g>\n    </g>\n    <g id=\"ytick_6\">\n     <g id=\"line2d_14\">\n      <g>\n       <use style=\"stroke:#000000;stroke-width:0.8;\" x=\"38.482813\" xlink:href=\"#ma68b1c31e8\" y=\"28.324625\"/>\n      </g>\n     </g>\n     <g id=\"text_14\">\n      <!-- 0.0 -->\n      <g transform=\"translate(15.579688 32.123844)scale(0.1 -0.1)\">\n       <use xlink:href=\"#DejaVuSans-48\"/>\n       <use x=\"63.623047\" xlink:href=\"#DejaVuSans-46\"/>\n       <use x=\"95.410156\" xlink:href=\"#DejaVuSans-48\"/>\n      </g>\n     </g>\n    </g>\n   </g>\n   <g id=\"patch_11\">\n    <path d=\"M 38.482813 224.64 \nL 38.482813 7.2 \n\" style=\"fill:none;stroke:#000000;stroke-linecap:square;stroke-linejoin:miter;stroke-width:0.8;\"/>\n   </g>\n   <g id=\"patch_12\">\n    <path d=\"M 373.282813 224.64 \nL 373.282813 7.2 \n\" style=\"fill:none;stroke:#000000;stroke-linecap:square;stroke-linejoin:miter;stroke-width:0.8;\"/>\n   </g>\n   <g id=\"patch_13\">\n    <path d=\"M 38.482813 224.64 \nL 373.282812 224.64 \n\" style=\"fill:none;stroke:#000000;stroke-linecap:square;stroke-linejoin:miter;stroke-width:0.8;\"/>\n   </g>\n   <g id=\"patch_14\">\n    <path d=\"M 38.482813 7.2 \nL 373.282812 7.2 \n\" style=\"fill:none;stroke:#000000;stroke-linecap:square;stroke-linejoin:miter;stroke-width:0.8;\"/>\n   </g>\n  </g>\n </g>\n <defs>\n  <clipPath id=\"p2ce508596c\">\n   <rect height=\"217.44\" width=\"334.8\" x=\"38.482813\" y=\"7.2\"/>\n  </clipPath>\n </defs>\n</svg>\n"
          },
          "metadata": {
            "needs_background": "light"
          }
        }
      ]
    },
    {
      "cell_type": "markdown",
      "metadata": {
        "id": "cV8bDqPpUKE8"
      },
      "source": [
        "Из графика выше видно, какая переменная и с каокй силой влияет на скор.\n",
        "\n",
        "Сильнее всего на просрочку влияет уровень, дохода. Отсутствие машины или жилья снижает рейтинг.\n",
        "\n",
        "Наша гипотеза оказалась верной, но уровень дохода на кредитный скоринг влияет в три раза сильнее"
      ]
    },
    {
      "cell_type": "code",
      "metadata": {
        "id": "F138uZ1Y_uiR"
      },
      "source": [
        ""
      ],
      "execution_count": null,
      "outputs": []
    }
  ]
}